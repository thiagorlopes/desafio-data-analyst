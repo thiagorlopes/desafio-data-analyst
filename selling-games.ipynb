{
 "cells": [
  {
   "cell_type": "markdown",
   "metadata": {},
   "source": [
    "<a href=\"https://hubconexa.com/\">\n",
    "    <img alt=\"Conexa labs logo\" src=\"./img/conexa_logo.svg\" style=\"height:70px; align:left\">\n",
    "</a>"
   ]
  },
  {
   "cell_type": "markdown",
   "metadata": {},
   "source": [
    "<h1 align=center><font size=5>Desafio Data Analyst</font></h1>"
   ]
  },
  {
   "cell_type": "markdown",
   "metadata": {},
   "source": [
    "<h1>Relatório</h1>"
   ]
  },
  {
   "cell_type": "markdown",
   "metadata": {},
   "source": [
    "<h3>Contexto</h3>"
   ]
  },
  {
   "cell_type": "markdown",
   "metadata": {},
   "source": [
    "Este relatório foi elaborado como pré-requisito para prosseguimento no processo seletivo para a vaga de analista de dados na companhia Conexa - Hub de Inovação Siagri."
   ]
  },
  {
   "cell_type": "markdown",
   "metadata": {},
   "source": [
    "<h2>Sumário</h2>"
   ]
  },
  {
   "cell_type": "markdown",
   "metadata": {},
   "source": [
    "1) [Introdução](#intro)<br>\n",
    "2) [Análise exploratória](#data_exploration)<br>\n",
    "a. [Qual a estrutura do dataset?](#question_1)<br>\n",
    "b. [Há inconsistências nos dados disponíveis?](#question_2)<br>\n",
    "c. [Quais as principais características das variáveis?](#question_3)<br>\n",
    "d. [Qual a frequência de itens por ano?](#question_4)<br>\n",
    "3) [Tratamento de dados](#data_cleaning)<br>\n",
    "a. [Eliminação de dados ausentes](#handle_missing)<br>\n",
    "b. [Eliminação de dados dupilcados](#handle_duplicate)<br>\n",
    "c. [Substituição de anos incorretos](#wrong_year)<br>\n",
    "4) [Visualização](#data_visualization)<br>\n",
    "a. [Jogos mais vendidos](#top_sales)<br>\n",
    "b. [Total de vendas](#total_sales)<br>\n",
    "c. [Número de vendas por gênero](#genre_sales)<br>\n",
    "d. [Editoras mais populares no top 100](#top_publishers)<br>\n",
    "5) [Conclusão](#conclusion)"
   ]
  },
  {
   "cell_type": "markdown",
   "metadata": {},
   "source": [
    "<hr>"
   ]
  },
  {
   "cell_type": "markdown",
   "metadata": {},
   "source": [
    "# 1. Introdução <a id=\"intro\"></a>"
   ]
  },
  {
   "cell_type": "markdown",
   "metadata": {},
   "source": [
    "<div style=\"text-align: justify\">\n",
    "Foram disponibilizados dois datasets, sendo necessária a escolha de um deles. O primeiro conjunto de dados é referente à venda de jogos digitais, enquanto que o segundo traz informações sobre os passageiros do navio titanic. O mercado de jogos digitais movimenta <a href=\"https://www.statista.com/topics/868/video-games/#:~:text=Video%20games%20are%20a%20billion,over%2077%20billion%20U.S.%20dollars.\">bilhões de dólares</a> todos os anos. O Brasil é, segundo dados de 2019, o <a href=\"https://valorinveste.globo.com/objetivo/empreenda-se/noticia/2019/07/30/brasil-e-o-13o-maior-mercado-de-games-do-mundo-e-o-maior-da-america-latina.ghtml\">13º maior mercado de jogos no mundo<a>. Há fortes indícios de que o <a href=\"https://revistapegn.globo.com/Tecnologia/noticia/2020/08/mercado-de-games-escapa-da-crise-e-cresce-com-isolamento-social.html\">desenvolvimento de jogos nacional ainda deve crescer bastante</a>. Desse modo, optou-se pela análise do dataset referente à venda de jogos digitais. Com isso, espera-se gerar insights que permitam aos desenvolvedores de jogos nacionais visualizarem formas de otimizar a rentabilidade desse mercado.\n",
    "</div>"
   ]
  },
  {
   "cell_type": "markdown",
   "metadata": {},
   "source": [
    "# 2. Análise Exploratória <a id=\"data_exploration\"></a>"
   ]
  },
  {
   "cell_type": "markdown",
   "metadata": {},
   "source": [
    "### Importação do dataset"
   ]
  },
  {
   "cell_type": "markdown",
   "metadata": {},
   "source": [
    "<p>\n",
    "O dataset pode ser encontrado no link: <a href=\"https://github.com/conexalabs/desafio-data-analyst/blob/main/data/selling_games.parquet\">https://github.com/conexalabs/desafio-data-analyst/blob/main/data/selling_games.parquet</a>. \n",
    "</p>"
   ]
  },
  {
   "cell_type": "code",
   "execution_count": 1,
   "metadata": {},
   "outputs": [
    {
     "name": "stdout",
     "output_type": "stream",
     "text": [
      "Requirement already satisfied: pyarrow in /home/thiago/miniconda3/envs/data-analysis/lib/python3.9/site-packages (2.0.0)\n",
      "Requirement already satisfied: numpy>=1.14 in /home/thiago/miniconda3/envs/data-analysis/lib/python3.9/site-packages (from pyarrow) (1.19.5)\n"
     ]
    }
   ],
   "source": [
    "!pip install pyarrow\n",
    "\n",
    "import pandas as pd\n",
    "import numpy as np"
   ]
  },
  {
   "cell_type": "markdown",
   "metadata": {},
   "source": [
    "### Leitura dos dados a partir do arquivo"
   ]
  },
  {
   "cell_type": "markdown",
   "metadata": {},
   "source": [
    "A tabela abaixo indica um resumo sobre os dados importados."
   ]
  },
  {
   "cell_type": "code",
   "execution_count": 2,
   "metadata": {},
   "outputs": [
    {
     "data": {
      "text/html": [
       "<div>\n",
       "<style scoped>\n",
       "    .dataframe tbody tr th:only-of-type {\n",
       "        vertical-align: middle;\n",
       "    }\n",
       "\n",
       "    .dataframe tbody tr th {\n",
       "        vertical-align: top;\n",
       "    }\n",
       "\n",
       "    .dataframe thead th {\n",
       "        text-align: right;\n",
       "    }\n",
       "</style>\n",
       "<table border=\"1\" class=\"dataframe\">\n",
       "  <thead>\n",
       "    <tr style=\"text-align: right;\">\n",
       "      <th></th>\n",
       "      <th>Name</th>\n",
       "      <th>Platform</th>\n",
       "      <th>Year</th>\n",
       "      <th>Genre</th>\n",
       "      <th>Publisher</th>\n",
       "      <th>NA_Sales</th>\n",
       "      <th>EU_Sales</th>\n",
       "      <th>JP_Sales</th>\n",
       "      <th>Other_Sales</th>\n",
       "      <th>Global_Sales</th>\n",
       "    </tr>\n",
       "  </thead>\n",
       "  <tbody>\n",
       "    <tr>\n",
       "      <th>0</th>\n",
       "      <td>Wii Sports</td>\n",
       "      <td>Wii</td>\n",
       "      <td>2006.0</td>\n",
       "      <td>Sports</td>\n",
       "      <td>Nintendo</td>\n",
       "      <td>41.49</td>\n",
       "      <td>29.02</td>\n",
       "      <td>3.77</td>\n",
       "      <td>8.46</td>\n",
       "      <td>82.74</td>\n",
       "    </tr>\n",
       "    <tr>\n",
       "      <th>1</th>\n",
       "      <td>Super Mario Bros.</td>\n",
       "      <td>NES</td>\n",
       "      <td>1985.0</td>\n",
       "      <td>Platform</td>\n",
       "      <td>Nintendo</td>\n",
       "      <td>29.08</td>\n",
       "      <td>3.58</td>\n",
       "      <td>6.81</td>\n",
       "      <td>0.77</td>\n",
       "      <td>40.24</td>\n",
       "    </tr>\n",
       "    <tr>\n",
       "      <th>2</th>\n",
       "      <td>Mario Kart Wii</td>\n",
       "      <td>Wii</td>\n",
       "      <td>2008.0</td>\n",
       "      <td>Racing</td>\n",
       "      <td>Nintendo</td>\n",
       "      <td>15.85</td>\n",
       "      <td>12.88</td>\n",
       "      <td>3.79</td>\n",
       "      <td>3.31</td>\n",
       "      <td>35.82</td>\n",
       "    </tr>\n",
       "    <tr>\n",
       "      <th>3</th>\n",
       "      <td>Wii Sports Resort</td>\n",
       "      <td>Wii</td>\n",
       "      <td>2009.0</td>\n",
       "      <td>Sports</td>\n",
       "      <td>Nintendo</td>\n",
       "      <td>15.75</td>\n",
       "      <td>11.01</td>\n",
       "      <td>3.28</td>\n",
       "      <td>2.96</td>\n",
       "      <td>33.00</td>\n",
       "    </tr>\n",
       "    <tr>\n",
       "      <th>4</th>\n",
       "      <td>Pokemon Red/Pokemon Blue</td>\n",
       "      <td>GB</td>\n",
       "      <td>1996.0</td>\n",
       "      <td>Role-Playing</td>\n",
       "      <td>Nintendo</td>\n",
       "      <td>11.27</td>\n",
       "      <td>8.89</td>\n",
       "      <td>10.22</td>\n",
       "      <td>1.00</td>\n",
       "      <td>31.37</td>\n",
       "    </tr>\n",
       "  </tbody>\n",
       "</table>\n",
       "</div>"
      ],
      "text/plain": [
       "                       Name Platform    Year         Genre Publisher  \\\n",
       "0                Wii Sports      Wii  2006.0        Sports  Nintendo   \n",
       "1         Super Mario Bros.      NES  1985.0      Platform  Nintendo   \n",
       "2            Mario Kart Wii      Wii  2008.0        Racing  Nintendo   \n",
       "3         Wii Sports Resort      Wii  2009.0        Sports  Nintendo   \n",
       "4  Pokemon Red/Pokemon Blue       GB  1996.0  Role-Playing  Nintendo   \n",
       "\n",
       "   NA_Sales  EU_Sales  JP_Sales  Other_Sales  Global_Sales  \n",
       "0     41.49     29.02      3.77         8.46         82.74  \n",
       "1     29.08      3.58      6.81         0.77         40.24  \n",
       "2     15.85     12.88      3.79         3.31         35.82  \n",
       "3     15.75     11.01      3.28         2.96         33.00  \n",
       "4     11.27      8.89     10.22         1.00         31.37  "
      ]
     },
     "execution_count": 2,
     "metadata": {},
     "output_type": "execute_result"
    }
   ],
   "source": [
    "filename = \"./data/selling_games.parquet\"\n",
    "df = pd.read_parquet(filename, engine='pyarrow')\n",
    "df.head()"
   ]
  },
  {
   "cell_type": "markdown",
   "metadata": {},
   "source": [
    "### a. Qual a estrutura do dataset?<a id=\"question_1\"></a>"
   ]
  },
  {
   "cell_type": "markdown",
   "metadata": {},
   "source": [
    "A dimensão do conjunto de dados é apresentada abaixo."
   ]
  },
  {
   "cell_type": "code",
   "execution_count": 3,
   "metadata": {},
   "outputs": [
    {
     "data": {
      "text/plain": [
       "(16598, 10)"
      ]
     },
     "execution_count": 3,
     "metadata": {},
     "output_type": "execute_result"
    }
   ],
   "source": [
    "df.shape"
   ]
  },
  {
   "cell_type": "markdown",
   "metadata": {},
   "source": [
    "Pode-se afirmar que existem 16.598 linhas e 10 colunas. A tabela abaixo apresenta um detalhamento das informações contidas em cada coluna."
   ]
  },
  {
   "cell_type": "markdown",
   "metadata": {},
   "source": [
    "Campo | Descrição\n",
    "----- | ---------\n",
    "Name | Nome do jogo\n",
    "Platform | Plataforma de lançamento dos jogos (PC, PS4, etc.)\n",
    "Year | Ano de lançamento do jogo\n",
    "Genre | Gênero do jogo\n",
    "Publisher | Editora do jogo\n",
    "NA_Sales | Vendas na América do Norte (em milhões)\n",
    "EU_Sales | Vendas na Europa (em milhões)\n",
    "JP_Sales | Vendas no Japão (em milhões)\n",
    "Other_Sales | Vendas no resto do mundo (em milhões)\n",
    "Global_Sales | Total de vendas mundiais."
   ]
  },
  {
   "cell_type": "markdown",
   "metadata": {},
   "source": [
    "### b. Há inconsistências nos dados disponíveis? <a id=\"question_2\"></a>"
   ]
  },
  {
   "cell_type": "markdown",
   "metadata": {},
   "source": [
    "A tabela abaixo apresenta um resumo sobre o dataset."
   ]
  },
  {
   "cell_type": "code",
   "execution_count": 4,
   "metadata": {},
   "outputs": [
    {
     "data": {
      "text/html": [
       "<div>\n",
       "<style scoped>\n",
       "    .dataframe tbody tr th:only-of-type {\n",
       "        vertical-align: middle;\n",
       "    }\n",
       "\n",
       "    .dataframe tbody tr th {\n",
       "        vertical-align: top;\n",
       "    }\n",
       "\n",
       "    .dataframe thead th {\n",
       "        text-align: right;\n",
       "    }\n",
       "</style>\n",
       "<table border=\"1\" class=\"dataframe\">\n",
       "  <thead>\n",
       "    <tr style=\"text-align: right;\">\n",
       "      <th></th>\n",
       "      <th>Year</th>\n",
       "      <th>NA_Sales</th>\n",
       "      <th>EU_Sales</th>\n",
       "      <th>JP_Sales</th>\n",
       "      <th>Other_Sales</th>\n",
       "      <th>Global_Sales</th>\n",
       "    </tr>\n",
       "  </thead>\n",
       "  <tbody>\n",
       "    <tr>\n",
       "      <th>count</th>\n",
       "      <td>16327.000000</td>\n",
       "      <td>16598.000000</td>\n",
       "      <td>16598.000000</td>\n",
       "      <td>16598.000000</td>\n",
       "      <td>16598.000000</td>\n",
       "      <td>16598.000000</td>\n",
       "    </tr>\n",
       "    <tr>\n",
       "      <th>mean</th>\n",
       "      <td>2006.406443</td>\n",
       "      <td>0.264667</td>\n",
       "      <td>0.146652</td>\n",
       "      <td>0.077782</td>\n",
       "      <td>0.048063</td>\n",
       "      <td>0.537441</td>\n",
       "    </tr>\n",
       "    <tr>\n",
       "      <th>std</th>\n",
       "      <td>5.828981</td>\n",
       "      <td>0.816683</td>\n",
       "      <td>0.505351</td>\n",
       "      <td>0.309291</td>\n",
       "      <td>0.188588</td>\n",
       "      <td>1.555028</td>\n",
       "    </tr>\n",
       "    <tr>\n",
       "      <th>min</th>\n",
       "      <td>1980.000000</td>\n",
       "      <td>0.000000</td>\n",
       "      <td>0.000000</td>\n",
       "      <td>0.000000</td>\n",
       "      <td>0.000000</td>\n",
       "      <td>0.010000</td>\n",
       "    </tr>\n",
       "    <tr>\n",
       "      <th>25%</th>\n",
       "      <td>2003.000000</td>\n",
       "      <td>0.000000</td>\n",
       "      <td>0.000000</td>\n",
       "      <td>0.000000</td>\n",
       "      <td>0.000000</td>\n",
       "      <td>0.060000</td>\n",
       "    </tr>\n",
       "    <tr>\n",
       "      <th>50%</th>\n",
       "      <td>2007.000000</td>\n",
       "      <td>0.080000</td>\n",
       "      <td>0.020000</td>\n",
       "      <td>0.000000</td>\n",
       "      <td>0.010000</td>\n",
       "      <td>0.170000</td>\n",
       "    </tr>\n",
       "    <tr>\n",
       "      <th>75%</th>\n",
       "      <td>2010.000000</td>\n",
       "      <td>0.240000</td>\n",
       "      <td>0.110000</td>\n",
       "      <td>0.040000</td>\n",
       "      <td>0.040000</td>\n",
       "      <td>0.470000</td>\n",
       "    </tr>\n",
       "    <tr>\n",
       "      <th>max</th>\n",
       "      <td>2020.000000</td>\n",
       "      <td>41.490000</td>\n",
       "      <td>29.020000</td>\n",
       "      <td>10.220000</td>\n",
       "      <td>10.570000</td>\n",
       "      <td>82.740000</td>\n",
       "    </tr>\n",
       "  </tbody>\n",
       "</table>\n",
       "</div>"
      ],
      "text/plain": [
       "               Year      NA_Sales      EU_Sales      JP_Sales   Other_Sales  \\\n",
       "count  16327.000000  16598.000000  16598.000000  16598.000000  16598.000000   \n",
       "mean    2006.406443      0.264667      0.146652      0.077782      0.048063   \n",
       "std        5.828981      0.816683      0.505351      0.309291      0.188588   \n",
       "min     1980.000000      0.000000      0.000000      0.000000      0.000000   \n",
       "25%     2003.000000      0.000000      0.000000      0.000000      0.000000   \n",
       "50%     2007.000000      0.080000      0.020000      0.000000      0.010000   \n",
       "75%     2010.000000      0.240000      0.110000      0.040000      0.040000   \n",
       "max     2020.000000     41.490000     29.020000     10.220000     10.570000   \n",
       "\n",
       "       Global_Sales  \n",
       "count  16598.000000  \n",
       "mean       0.537441  \n",
       "std        1.555028  \n",
       "min        0.010000  \n",
       "25%        0.060000  \n",
       "50%        0.170000  \n",
       "75%        0.470000  \n",
       "max       82.740000  "
      ]
     },
     "execution_count": 4,
     "metadata": {},
     "output_type": "execute_result"
    }
   ],
   "source": [
    "df.describe()"
   ]
  },
  {
   "cell_type": "markdown",
   "metadata": {},
   "source": [
    "Percebe-se uma discrepância na contagem de valores entre as colunas, o que indica a ausência de dados em algumas linhas."
   ]
  },
  {
   "cell_type": "markdown",
   "metadata": {},
   "source": [
    "#### Dados ausentes <a id=\"missing_data\"></a>"
   ]
  },
  {
   "cell_type": "markdown",
   "metadata": {},
   "source": [
    "A quantidade de dados ausentes por coluna é indicada abaixo."
   ]
  },
  {
   "cell_type": "code",
   "execution_count": 5,
   "metadata": {},
   "outputs": [
    {
     "name": "stdout",
     "output_type": "stream",
     "text": [
      "Name              0\n",
      "Platform          0\n",
      "Year            271\n",
      "Genre             0\n",
      "Publisher        58\n",
      "NA_Sales          0\n",
      "EU_Sales          0\n",
      "JP_Sales          0\n",
      "Other_Sales       0\n",
      "Global_Sales      0\n",
      "dtype: int64\n"
     ]
    }
   ],
   "source": [
    "missing_data = df.isnull().sum()\n",
    "print(missing_data)"
   ]
  },
  {
   "cell_type": "markdown",
   "metadata": {},
   "source": [
    "Baseado nos dados acima, constata-se que das 16.598 linhas, duas colunas apresentaram dados ausentes: 'Year' e 'Publisher'. O gráfico abaixo apresenta a distribuição dos dados ausentes."
   ]
  },
  {
   "cell_type": "code",
   "execution_count": 6,
   "metadata": {},
   "outputs": [
    {
     "name": "stdout",
     "output_type": "stream",
     "text": [
      "Requirement already satisfied: matplotlib-venn in /home/thiago/miniconda3/envs/data-analysis/lib/python3.9/site-packages (0.11.6)\n",
      "Requirement already satisfied: scipy in /home/thiago/miniconda3/envs/data-analysis/lib/python3.9/site-packages (from matplotlib-venn) (1.6.0)\n",
      "Requirement already satisfied: matplotlib in /home/thiago/miniconda3/envs/data-analysis/lib/python3.9/site-packages (from matplotlib-venn) (3.3.3)\n",
      "Requirement already satisfied: numpy in /home/thiago/miniconda3/envs/data-analysis/lib/python3.9/site-packages (from matplotlib-venn) (1.19.5)\n",
      "Requirement already satisfied: python-dateutil>=2.1 in /home/thiago/miniconda3/envs/data-analysis/lib/python3.9/site-packages (from matplotlib->matplotlib-venn) (2.8.1)\n",
      "Requirement already satisfied: kiwisolver>=1.0.1 in /home/thiago/miniconda3/envs/data-analysis/lib/python3.9/site-packages (from matplotlib->matplotlib-venn) (1.3.1)\n",
      "Requirement already satisfied: pillow>=6.2.0 in /home/thiago/miniconda3/envs/data-analysis/lib/python3.9/site-packages (from matplotlib->matplotlib-venn) (8.1.0)\n",
      "Requirement already satisfied: pyparsing!=2.0.4,!=2.1.2,!=2.1.6,>=2.0.3 in /home/thiago/miniconda3/envs/data-analysis/lib/python3.9/site-packages (from matplotlib->matplotlib-venn) (2.4.7)\n",
      "Requirement already satisfied: cycler>=0.10 in /home/thiago/miniconda3/envs/data-analysis/lib/python3.9/site-packages (from matplotlib->matplotlib-venn) (0.10.0)\n",
      "Requirement already satisfied: six in /home/thiago/miniconda3/envs/data-analysis/lib/python3.9/site-packages (from cycler>=0.10->matplotlib->matplotlib-venn) (1.15.0)\n"
     ]
    }
   ],
   "source": [
    "!pip install matplotlib-venn\n",
    "\n",
    "import matplotlib.pyplot as plt\n",
    "from matplotlib_venn import venn2"
   ]
  },
  {
   "cell_type": "code",
   "execution_count": 7,
   "metadata": {},
   "outputs": [
    {
     "data": {
      "image/png": "[encoded data removed]",
      "text/plain": [
       "<Figure size 432x288 with 1 Axes>"
      ]
     },
     "metadata": {},
     "output_type": "display_data"
    }
   ],
   "source": [
    "missing_total = df.isnull().any(axis=1).sum()\n",
    "missing_publisher = missing_total - 271\n",
    "missing_year = missing_total - 58\n",
    "missing_both = missing_total - missing_year - missing_publisher\n",
    "\n",
    "venn2(subsets = (missing_year, missing_publisher, missing_both), set_labels = ('Falta Ano', 'Falta Editora'))\n",
    "plt.show()"
   ]
  },
  {
   "cell_type": "markdown",
   "metadata": {},
   "source": [
    "<strong>Total:</strong> 307"
   ]
  },
  {
   "cell_type": "markdown",
   "metadata": {},
   "source": [
    "Do total de 16.598 linhas, 307 possuem valores ausentes. Dessa forma, surge a necessidade de tratamento dos dados."
   ]
  },
  {
   "cell_type": "markdown",
   "metadata": {},
   "source": [
    "#### Dados duplicados <a id=\"duplicate_data\"></a>"
   ]
  },
  {
   "cell_type": "markdown",
   "metadata": {},
   "source": [
    "A seguir, foi efetuada a análise quanto à presença de linhas duplicadas."
   ]
  },
  {
   "cell_type": "code",
   "execution_count": 8,
   "metadata": {},
   "outputs": [
    {
     "data": {
      "text/html": [
       "<div>\n",
       "<style scoped>\n",
       "    .dataframe tbody tr th:only-of-type {\n",
       "        vertical-align: middle;\n",
       "    }\n",
       "\n",
       "    .dataframe tbody tr th {\n",
       "        vertical-align: top;\n",
       "    }\n",
       "\n",
       "    .dataframe thead th {\n",
       "        text-align: right;\n",
       "    }\n",
       "</style>\n",
       "<table border=\"1\" class=\"dataframe\">\n",
       "  <thead>\n",
       "    <tr style=\"text-align: right;\">\n",
       "      <th></th>\n",
       "      <th>Name</th>\n",
       "      <th>Platform</th>\n",
       "      <th>Year</th>\n",
       "      <th>Genre</th>\n",
       "      <th>Publisher</th>\n",
       "      <th>NA_Sales</th>\n",
       "      <th>EU_Sales</th>\n",
       "      <th>JP_Sales</th>\n",
       "      <th>Other_Sales</th>\n",
       "      <th>Global_Sales</th>\n",
       "    </tr>\n",
       "  </thead>\n",
       "  <tbody>\n",
       "    <tr>\n",
       "      <th>14997</th>\n",
       "      <td>Wii de Asobu: Metroid Prime</td>\n",
       "      <td>Wii</td>\n",
       "      <td>NaN</td>\n",
       "      <td>Shooter</td>\n",
       "      <td>Nintendo</td>\n",
       "      <td>0.0</td>\n",
       "      <td>0.0</td>\n",
       "      <td>0.02</td>\n",
       "      <td>0.0</td>\n",
       "      <td>0.02</td>\n",
       "    </tr>\n",
       "    <tr>\n",
       "      <th>14999</th>\n",
       "      <td>Wii de Asobu: Metroid Prime</td>\n",
       "      <td>Wii</td>\n",
       "      <td>NaN</td>\n",
       "      <td>Shooter</td>\n",
       "      <td>Nintendo</td>\n",
       "      <td>0.0</td>\n",
       "      <td>0.0</td>\n",
       "      <td>0.02</td>\n",
       "      <td>0.0</td>\n",
       "      <td>0.02</td>\n",
       "    </tr>\n",
       "  </tbody>\n",
       "</table>\n",
       "</div>"
      ],
      "text/plain": [
       "                              Name Platform  Year    Genre Publisher  \\\n",
       "14997  Wii de Asobu: Metroid Prime      Wii   NaN  Shooter  Nintendo   \n",
       "14999  Wii de Asobu: Metroid Prime      Wii   NaN  Shooter  Nintendo   \n",
       "\n",
       "       NA_Sales  EU_Sales  JP_Sales  Other_Sales  Global_Sales  \n",
       "14997       0.0       0.0      0.02          0.0          0.02  \n",
       "14999       0.0       0.0      0.02          0.0          0.02  "
      ]
     },
     "execution_count": 8,
     "metadata": {},
     "output_type": "execute_result"
    }
   ],
   "source": [
    "df[df.duplicated(keep=False)]"
   ]
  },
  {
   "cell_type": "markdown",
   "metadata": {},
   "source": [
    "A tabela acima evidencia a presença de uma única duplicata, a qual deve ser removida durante o tratamento de dados. Vale ressaltar que o ano é um dado ausente para esses registros. Dessa forma, é razoável afirmar que esses dois itens serão removidos com a eliminação de dados ausentes."
   ]
  },
  {
   "cell_type": "markdown",
   "metadata": {},
   "source": [
    "### c. Quais as principais características das variáveis? <a id=\"question_3\"></a>"
   ]
  },
  {
   "cell_type": "markdown",
   "metadata": {},
   "source": [
    "#### Tipos"
   ]
  },
  {
   "cell_type": "markdown",
   "metadata": {},
   "source": [
    "Os tipos de dados de cada coluna são indicados abaixo."
   ]
  },
  {
   "cell_type": "code",
   "execution_count": 9,
   "metadata": {},
   "outputs": [
    {
     "name": "stdout",
     "output_type": "stream",
     "text": [
      "Name             object\n",
      "Platform         object\n",
      "Year            float64\n",
      "Genre            object\n",
      "Publisher        object\n",
      "NA_Sales        float64\n",
      "EU_Sales        float64\n",
      "JP_Sales        float64\n",
      "Other_Sales     float64\n",
      "Global_Sales    float64\n",
      "dtype: object\n"
     ]
    }
   ],
   "source": [
    "print(df.dtypes)"
   ]
  },
  {
   "cell_type": "markdown",
   "metadata": {},
   "source": [
    "<div style=\"text-align: justify\">\n",
    "As variáveis nome, plataforma, gênero e editora podem ser consideradas categóricas, enquanto que as demais, quantitativas. A variável ano é do tipo discreta, enquanto que o número de vendas representa um valor contínuo.\n",
    "</div>"
   ]
  },
  {
   "cell_type": "markdown",
   "metadata": {},
   "source": [
    "<div style=\"text-align: justify\">\n",
    "Dados númericos devem, preferencialmente, ser apresentados nos formatos 'float' ou 'int'. Dados categóricos, por outro lado, normalmente são do tipo 'object'. Desse modo, pode-se afirmar que os tipos identificados acima atendem aos requisitos. A coluna 'Year' poderia ser do tipo 'datetime'. No entanto, tendo em vista que apenas o ano foi indicado, não se vislumbra necessidade de efetuar conversão de tipo nessa coluna.\n",
    "</div>"
   ]
  },
  {
   "cell_type": "markdown",
   "metadata": {},
   "source": [
    "#### Correlação"
   ]
  },
  {
   "cell_type": "markdown",
   "metadata": {},
   "source": [
    "O gráfico abaixo indica a correlação entre as variáveis continuas."
   ]
  },
  {
   "cell_type": "code",
   "execution_count": 10,
   "metadata": {},
   "outputs": [
    {
     "data": {
      "text/plain": [
       "<AxesSubplot:>"
      ]
     },
     "execution_count": 10,
     "metadata": {},
     "output_type": "execute_result"
    },
    {
     "data": {
      "image/png": "[encoded data removed]",
      "text/plain": [
       "<Figure size 432x288 with 2 Axes>"
      ]
     },
     "metadata": {
      "needs_background": "light"
     },
     "output_type": "display_data"
    }
   ],
   "source": [
    "!pip install seab\n",
    "\n",
    "import seaborn as sns\n",
    "\n",
    "data = df[[\"NA_Sales\", \"EU_Sales\", \"JP_Sales\", \"Other_Sales\", \"Global_Sales\"]]\n",
    "corr = data.corr()\n",
    "\n",
    "sns.heatmap(corr, \n",
    "    xticklabels=corr.columns,\n",
    "    yticklabels=corr.columns,\n",
    "    cmap='RdBu_r',\n",
    "    annot=True,\n",
    "    linewidth=0.5)"
   ]
  },
  {
   "cell_type": "markdown",
   "metadata": {},
   "source": [
    "<div style=\"text-align: justify\">\n",
    "Analisando os valores, é possível observar que o mercado norte americano e o europeu apresentam um forte relacionamento com o total de vendas globais. Além disso, o mercado japonês apresenta a menor correlação com os demais mercados. Desse modo, é razoável supor que o Japão apresente um mercado predominantemente doméstico. \n",
    "</div>"
   ]
  },
  {
   "cell_type": "markdown",
   "metadata": {},
   "source": [
    "#### Plataformas"
   ]
  },
  {
   "cell_type": "markdown",
   "metadata": {},
   "source": [
    "É importante avaliar a quantidade de plataformas únicas."
   ]
  },
  {
   "cell_type": "code",
   "execution_count": 11,
   "metadata": {},
   "outputs": [],
   "source": [
    "# Importação do pacote com módulos auxiliares\n",
    "from utils import helpers"
   ]
  },
  {
   "cell_type": "code",
   "execution_count": 12,
   "metadata": {},
   "outputs": [
    {
     "name": "stdout",
     "output_type": "stream",
     "text": [
      "Total:  31\n",
      "['2600' '3DO' '3DS' 'DC' 'DS' 'GB' 'GBA' 'GC' 'GEN' 'GG' 'N64' 'NES' 'NG'\n",
      " 'PC' 'PCFX' 'PS' 'PS2' 'PS3' 'PS4' 'PSP' 'PSV' 'SAT' 'SCD' 'SNES' 'TG16'\n",
      " 'WS' 'Wii' 'WiiU' 'X360' 'XB' 'XOne']\n"
     ]
    }
   ],
   "source": [
    "helpers.print_unique(df['Platform'])"
   ]
  },
  {
   "cell_type": "markdown",
   "metadata": {},
   "source": [
    "Há 31 plataformas no dataset analisado."
   ]
  },
  {
   "cell_type": "markdown",
   "metadata": {},
   "source": [
    "#### Gêneros"
   ]
  },
  {
   "cell_type": "markdown",
   "metadata": {},
   "source": [
    "Os gêneros presentes no conjunto de dados são indicados a seguir."
   ]
  },
  {
   "cell_type": "markdown",
   "metadata": {},
   "source": [
    "É importante ressaltar que não há a presença de dados referentes a jogos de celulares, uma [indústria que movimenta bilhões e tem crescido muito](https://www.ironsrc.com/blog/mobile-gaming-trends/#:~:text=Mobile%20game%20industry%20statistics,38%25%20will%20pay%20for%20games.)."
   ]
  },
  {
   "cell_type": "code",
   "execution_count": 13,
   "metadata": {},
   "outputs": [
    {
     "name": "stdout",
     "output_type": "stream",
     "text": [
      "Total:  12\n",
      "['Action' 'Adventure' 'Fighting' 'Misc' 'Platform' 'Puzzle' 'Racing'\n",
      " 'Role-Playing' 'Shooter' 'Simulation' 'Sports' 'Strategy']\n"
     ]
    }
   ],
   "source": [
    "helpers.print_unique(df['Genre'])"
   ]
  },
  {
   "cell_type": "markdown",
   "metadata": {},
   "source": [
    "Foram identificados 12 gêneros distintos."
   ]
  },
  {
   "cell_type": "markdown",
   "metadata": {},
   "source": [
    "O dataset não considera o valor de vendas oriundo das assinaturas mensais de títulos que adotem essa modalidade, bastante popular no gênero 'MMORPG'."
   ]
  },
  {
   "cell_type": "markdown",
   "metadata": {},
   "source": [
    "#### Editoras"
   ]
  },
  {
   "cell_type": "markdown",
   "metadata": {},
   "source": [
    "As editoras do dataset são relacionadas abaixo."
   ]
  },
  {
   "cell_type": "code",
   "execution_count": 14,
   "metadata": {},
   "outputs": [
    {
     "name": "stdout",
     "output_type": "stream",
     "text": [
      "Total:  578\n",
      "['10TACLE Studios' '1C Company' '20th Century Fox Video Games' '2D Boy'\n",
      " '3DO' '49Games' '505 Games' '5pb' '7G//AMES' '989 Sports' '989 Studios'\n",
      " 'AQ Interactive' 'ASC Games' 'ASCII Entertainment' 'ASCII Media Works'\n",
      " 'ASK' 'Abylight' 'Acclaim Entertainment' 'Accolade' 'Ackkstudios'\n",
      " 'Acquire' 'Activision' 'Activision Blizzard' 'Activision Value'\n",
      " 'Adeline Software' 'Aerosoft' 'Agatsuma Entertainment' 'Agetec'\n",
      " 'Aksys Games' 'Alawar Entertainment' 'Alchemist' 'Alternative Software'\n",
      " 'Altron' 'Alvion' 'American Softworks' 'Angel Studios' 'Answer Software'\n",
      " 'Aqua Plus' 'Aques' 'Arc System Works' 'Arena Entertainment' 'Aria'\n",
      " 'Arika' 'ArtDink' 'Aruze Corp' 'Ascaron Entertainment'\n",
      " 'Ascaron Entertainment GmbH' 'Asgard' 'Asmik Ace Entertainment'\n",
      " 'Asmik Corp' 'Aspyr' 'Astragon' 'Asylum Entertainment' 'Atari' 'Athena'\n",
      " 'Atlus' 'Avalon Interactive' 'Avanquest' 'Avanquest Software' 'Axela'\n",
      " 'BAM! Entertainment' 'BMG Interactive Entertainment' 'BPS' 'Banpresto'\n",
      " 'Benesse' 'Berkeley' 'Bethesda Softworks' 'Big Ben Interactive'\n",
      " 'Big Fish Games' 'Bigben Interactive' 'Black Bean Games'\n",
      " 'Black Label Games' 'Blast! Entertainment Ltd' 'Blue Byte'\n",
      " 'Bohemia Interactive' 'Bomb' 'Boost On' 'Brash Entertainment' 'Broccoli'\n",
      " 'BushiRoad' 'CBS Electronics' 'CCP' 'CDV Software Entertainment'\n",
      " 'CPG Products' 'CTO SpA' 'Capcom' 'Cave' 'ChunSoft' 'City Interactive'\n",
      " 'Cloud Imperium Games Corporation' 'Coconuts Japan' 'Codemasters'\n",
      " 'Codemasters Online' 'CokeM Interactive' 'Coleco' 'Comfort' 'Commseed'\n",
      " 'Compile' 'Compile Heart' 'Conspiracy Entertainment' 'Core Design Ltd.'\n",
      " 'Crave Entertainment' 'Creative Core' 'Crimson Cow' 'Crystal Dynamics'\n",
      " 'Culture Brain' 'Culture Publishers' 'CyberFront' 'Cygames' 'D3Publisher'\n",
      " 'DHM Interactive' 'DSI Games' 'DTP Entertainment' 'Daedalic'\n",
      " 'Daedalic Entertainment' 'Daito' 'Data Age' 'Data Design Interactive'\n",
      " 'Data East' 'Datam Polystar' 'Deep Silver' 'Destination Software, Inc'\n",
      " 'Destineer' 'Detn8 Games' 'Devolver Digital' 'DigiCube'\n",
      " 'Disney Interactive Studios' 'Dorart' 'DreamCatcher Interactive'\n",
      " 'DreamWorks Interactive' 'Dusenberry Martin Racing' 'EA Games'\n",
      " 'EON Digital Entertainment' 'ESP' 'Easy Interactive' 'Ecole' 'Edia'\n",
      " 'Eidos Interactive' 'Electronic Arts' 'Electronic Arts Victor' 'Elf'\n",
      " 'Elite' 'Empire Interactive' 'Encore' 'Enix Corporation'\n",
      " 'Enjoy Gaming ltd.' 'Enterbrain' 'Epic Games' 'Epoch' 'Ertain'\n",
      " 'Essential Games' 'Evolution Games' 'Evolved Games'\n",
      " 'Excalibur Publishing' 'Experience Inc.' 'Extreme Entertainment Group'\n",
      " 'Falcom Corporation' 'Fields' 'Flashpoint Games' 'Flight-Plan'\n",
      " 'Focus Home Interactive' 'Focus Multimedia' 'Foreign Media Games'\n",
      " 'Fortyfive' 'Fox Interactive' 'From Software' 'FuRyu' 'FuRyu Corporation'\n",
      " 'Fuji' 'FunSoft' 'Funbox Media' 'Funcom' 'Funsta' 'G.Rev' 'GN Software'\n",
      " 'GOA' 'GSP' 'GT Interactive' 'Gaga' 'Gainax Network Systems' 'Gakken'\n",
      " 'Game Arts' 'Game Factory' 'Game Life' 'GameMill Entertainment' 'GameTek'\n",
      " 'Gamebridge' 'Gamecock' 'Gameloft' 'Gathering of Developers'\n",
      " 'General Entertainment' 'Genki' 'Genterprise' 'Ghostlight' 'Giga'\n",
      " 'Giza10' 'Glams' 'Global A Entertainment' 'Global Star' 'Gotham Games'\n",
      " 'Graffiti' 'Grand Prix Games' 'Graphsim Entertainment'\n",
      " 'Gremlin Interactive Ltd' 'Griffin International' 'Groove Games' 'GungHo'\n",
      " 'Gust' 'HAL Laboratory' 'HMH Interactive' 'Hackberry'\n",
      " 'Hamster Corporation' 'Happinet' 'Harmonix Music Systems'\n",
      " 'Hasbro Interactive' 'Havas Interactive' 'Headup Games' 'Hearty Robin'\n",
      " 'Hect' 'Hello Games' 'Her Interactive' 'Hip Interactive'\n",
      " 'Home Entertainment Suppliers' 'Hudson Entertainment' 'Hudson Soft'\n",
      " 'Human Entertainment' 'HuneX' 'IE Institute' 'ITT Family Games'\n",
      " 'Iceberg Interactive' 'Idea Factory' 'Idea Factory International'\n",
      " 'Ignition Entertainment' 'Illusion Softworks' 'Imadio' 'Image Epoch'\n",
      " 'Imageworks' 'Imagic' 'Imagineer' 'Imax' 'Indie Games' 'Infogrames'\n",
      " 'Insomniac Games' 'Interchannel' 'Interchannel-Holon' 'Intergrow'\n",
      " 'Interplay' 'Interplay Productions' 'Interworks Unlimited, Inc.'\n",
      " 'Inti Creates' 'Introversion Software' 'Irem Software Engineering'\n",
      " 'Ivolgamus' 'JVC' 'Jack of All Games' 'Jaleco' 'Jester Interactive'\n",
      " 'JoWood Productions' 'Jorudan' 'Just Flight' 'KID' 'KSS' 'Kadokawa Games'\n",
      " 'Kadokawa Shoten' 'Kaga Create' 'Kalypso Media' 'Kamui' 'Kando Games'\n",
      " 'Karin Entertainment' 'Kemco' 'Kids Station' 'King Records'\n",
      " 'Knowledge Adventure' 'Koch Media' 'Kokopeli Digital Studios'\n",
      " 'Konami Digital Entertainment' 'Kool Kizz' 'LEGO Media' 'LSP Games'\n",
      " 'Laguna' 'Legacy Interactive' 'Level 5' 'Lexicon Entertainment'\n",
      " 'Licensed 4U' 'Lighthouse Interactive' 'Liquid Games' 'Little Orbit'\n",
      " 'Locus' 'LucasArts' 'MC2 Entertainment' 'MLB.com' 'MTO' 'MTV Games'\n",
      " 'Mad Catz' 'Magical Company' 'Magix' 'Majesco Entertainment'\n",
      " 'Mamba Games' 'Marvel Entertainment' 'Marvelous Entertainment'\n",
      " 'Marvelous Games' 'Marvelous Interactive' 'Masque Publishing'\n",
      " 'Mastertronic' 'Mastiff' 'Mattel Interactive' 'Max Five'\n",
      " 'Maximum Family Games' 'Maxis' 'Media Entertainment' 'Media Factory'\n",
      " 'Media Rings' 'Media Works' 'MediaQuest' 'Men-A-Vision'\n",
      " 'Mentor Interactive' 'Mercury Games' 'Merscom LLC' 'Metro 3D'\n",
      " 'Michaelsoft' 'Micro Cabin' 'Microids' 'Microprose'\n",
      " 'Microsoft Game Studios' 'Midas Interactive Entertainment' 'Midway Games'\n",
      " 'Milestone' 'Milestone S.r.l' 'Milestone S.r.l.' 'Minato Station'\n",
      " 'Mindscape' 'Mirai Shounen' 'Misawa' 'Mitsui' 'Mojang'\n",
      " 'Monte Christo Multimedia' 'Moss' 'Mud Duck Productions' 'Mumbo Jumbo'\n",
      " 'Mycom' 'Myelin Media' 'Mystique' 'NCS' 'NCSoft' 'NDA Productions' 'NEC'\n",
      " 'NEC Interchannel' 'Namco Bandai Games' 'Natsume' 'Navarre Corp'\n",
      " 'Naxat Soft' 'Neko Entertainment' 'NetRevo' 'New' 'New World Computing'\n",
      " 'NewKidCo' 'Nexon' 'Nichibutsu' 'Nihon Falcom Corporation' 'Nintendo'\n",
      " 'Nippon Amuse' 'Nippon Columbia' 'Nippon Ichi Software' 'Nippon Telenet'\n",
      " 'Nitroplus' 'Nobilis' 'Nordcurrent' 'Nordic Games' 'NovaLogic'\n",
      " 'Number None' 'O-Games' 'O3 Entertainment' 'Ocean' 'Office Create'\n",
      " 'On Demand' 'Ongakukan' 'Origin Systems' 'Otomate' 'Oxygen Interactive'\n",
      " 'P2 Games' 'PM Studios' 'PQube' 'Pacific Century Cyber Works'\n",
      " 'Pack In Soft' 'Pack-In-Video' 'Palcom' 'Panther Software' 'Paon'\n",
      " 'Paon Corporation' 'Paradox Development' 'Paradox Interactive'\n",
      " 'Parker Bros.' 'Performance Designed Products' 'Phantagram' 'Phantom EFX'\n",
      " 'Phenomedia' 'Phoenix Games' 'Piacci' 'Pinnacle' 'Pioneer LDC' 'Play It'\n",
      " 'PlayV' 'Playlogic Game Factory' 'Playmates' 'Playmore' 'Plenty'\n",
      " 'Pony Canyon' 'PopCap Games' 'PopTop Software' 'Popcorn Arcade' 'Pow'\n",
      " 'Princess Soft' 'Prototype' 'Psygnosis' 'Quelle' 'Quest' 'Quinrose'\n",
      " 'Quintet' 'RED Entertainment' 'RTL' 'Rage Software' 'Rain Games'\n",
      " 'Rebellion' 'Rebellion Developments' 'Red Orb' 'Red Storm Entertainment'\n",
      " 'RedOctane' 'Reef Entertainment' 'Revolution (Japan)'\n",
      " 'Revolution Software' 'Rising Star Games' 'Riverhillsoft'\n",
      " 'Rocket Company' 'Rondomedia' 'Russel' 'SCS Software' 'SCi' 'SNK'\n",
      " 'SNK Playmore' 'SPS' 'SSI' 'Sammy Corporation' 'Saurus' 'Scholastic Inc.'\n",
      " 'Screenlife' 'Sears' 'Sega' 'Seta Corporation' 'Seventh Chord'\n",
      " 'Shogakukan' 'Simon & Schuster Interactive' 'Slightly Mad Studios'\n",
      " 'Slitherine Software' 'Societa' 'Sold Out' 'Sonnet'\n",
      " 'Sony Computer Entertainment' 'Sony Computer Entertainment America'\n",
      " 'Sony Computer Entertainment Europe' 'Sony Music Entertainment'\n",
      " 'Sony Online Entertainment' 'SouthPeak Games' 'Spike' 'Square'\n",
      " 'Square EA' 'Square Enix' 'SquareSoft' 'Stainless Games' 'Starfish'\n",
      " 'Starpath Corp.' 'Sting' 'Storm City Games' 'Strategy First' 'Success'\n",
      " 'Summitsoft' 'Sunflowers' 'Sunrise Interactive' 'Sunsoft' 'Sweets'\n",
      " 'Swing! Entertainment' 'Syscom' 'System 3' 'System 3 Arcade Software'\n",
      " 'System Soft' 'T&E Soft' 'TDK Core' 'TDK Mediactive' 'TGL' 'THQ' 'TOHO'\n",
      " 'TYO' 'Taito' 'Takara' 'Takara Tomy' 'Take-Two Interactive' 'Takuyo'\n",
      " 'TalonSoft' 'Team17 Software' 'TechnoSoft' 'Technos Japan Corporation'\n",
      " 'Tecmo Koei' 'Telegames' 'Telltale Games' 'Telstar' 'Tetris Online'\n",
      " 'The Adventure Company' 'The Learning Company' 'Tigervision'\n",
      " 'Time Warner Interactive' 'Titus' 'Tivola' 'Tommo' 'Tomy Corporation'\n",
      " 'TopWare Interactive' 'Touchstone' 'Tradewest' 'Trion Worlds'\n",
      " 'Tripwire Interactive' 'Tru Blu Entertainment' 'Tryfirst' 'Type-Moon'\n",
      " 'U.S. Gold' 'UEP Systems' 'UFO Interactive' 'UIG Entertainment' 'Ubisoft'\n",
      " 'Ubisoft Annecy' 'Ultravision' 'Universal Gamex' 'Universal Interactive'\n",
      " 'Unknown' 'Valcon Games' 'ValuSoft' 'Valve' 'Valve Software' 'Vap'\n",
      " 'Vatical Entertainment' 'Vic Tokai' 'Victor Interactive' 'Video System'\n",
      " 'Views' 'Vir2L Studios' 'Virgin Interactive' 'Virtual Play Games' 'Visco'\n",
      " 'Vivendi Games' 'Wanadoo' 'Warashi' 'Wargaming.net'\n",
      " 'Warner Bros. Interactive Entertainment' 'Warp' 'WayForward Technologies'\n",
      " 'Westwood Studios' 'White Park Bay Software' 'Wizard Video Games'\n",
      " 'XS Games' 'Xicat Interactive' 'Xing Entertainment' 'Xplosiv'\n",
      " 'Xseed Games' 'Yacht Club Games' 'Yamasa Entertainment' 'Yeti' \"Yuke's\"\n",
      " 'Yumedia' 'Zenrin' 'Zoo Digital Publishing' 'Zoo Games' 'Zushi Games'\n",
      " 'bitComposer Games' 'dramatic create' 'fonfun' 'iWin' 'id Software'\n",
      " 'imageepoch Inc.' 'inXile Entertainment' 'mixi, Inc' 'responDESIGN']\n"
     ]
    }
   ],
   "source": [
    "helpers.print_unique(df['Publisher'])"
   ]
  },
  {
   "cell_type": "markdown",
   "metadata": {},
   "source": [
    "Foi constatado um total de 578 editoras."
   ]
  },
  {
   "cell_type": "markdown",
   "metadata": {},
   "source": [
    "### d. Qual a frequência de itens por ano?"
   ]
  },
  {
   "cell_type": "markdown",
   "metadata": {},
   "source": [
    "Indica-se abaixo o intervalo disponível no dataset."
   ]
  },
  {
   "cell_type": "code",
   "execution_count": 15,
   "metadata": {},
   "outputs": [
    {
     "name": "stdout",
     "output_type": "stream",
     "text": [
      "Total:  39\n",
      "[1980. 1981. 1982. 1983. 1984. 1985. 1986. 1987. 1988. 1989. 1990. 1991.\n",
      " 1992. 1993. 1994. 1995. 1996. 1997. 1998. 1999. 2000. 2001. 2002. 2003.\n",
      " 2004. 2005. 2006. 2007. 2008. 2009. 2010. 2011. 2012. 2013. 2014. 2015.\n",
      " 2016. 2017. 2020.]\n"
     ]
    }
   ],
   "source": [
    "helpers.print_unique(df['Year'])"
   ]
  },
  {
   "cell_type": "markdown",
   "metadata": {},
   "source": [
    "Pode-se constatar que há uma continuidade dos anos 1980 até 2017. No entanto, não há dados disponíveis para os anos de 2018 e 2019."
   ]
  },
  {
   "cell_type": "markdown",
   "metadata": {},
   "source": [
    "A frequência de cada ano é apresentada a seguir:"
   ]
  },
  {
   "cell_type": "code",
   "execution_count": 16,
   "metadata": {},
   "outputs": [
    {
     "data": {
      "text/plain": [
       "2009.0    1431\n",
       "2008.0    1428\n",
       "2010.0    1259\n",
       "2007.0    1202\n",
       "2011.0    1139\n",
       "2006.0    1008\n",
       "2005.0     941\n",
       "2002.0     829\n",
       "2003.0     775\n",
       "2004.0     763\n",
       "2012.0     657\n",
       "2015.0     614\n",
       "2014.0     582\n",
       "2013.0     546\n",
       "2001.0     482\n",
       "1998.0     379\n",
       "2000.0     349\n",
       "2016.0     344\n",
       "1999.0     338\n",
       "1997.0     289\n",
       "1996.0     263\n",
       "1995.0     219\n",
       "1994.0     121\n",
       "1993.0      60\n",
       "1981.0      46\n",
       "1992.0      43\n",
       "1991.0      41\n",
       "1982.0      36\n",
       "1986.0      21\n",
       "1983.0      17\n",
       "1989.0      17\n",
       "1990.0      16\n",
       "1987.0      16\n",
       "1988.0      15\n",
       "1984.0      14\n",
       "1985.0      14\n",
       "1980.0       9\n",
       "2017.0       3\n",
       "2020.0       1\n",
       "Name: Year, dtype: int64"
      ]
     },
     "execution_count": 16,
     "metadata": {},
     "output_type": "execute_result"
    }
   ],
   "source": [
    "games_by_year = df['Year'].value_counts()\n",
    "games_by_year"
   ]
  },
  {
   "cell_type": "markdown",
   "metadata": {},
   "source": [
    "Para melhor visualização, foi construído o gráfico a seguir, o qual indica a distribuição de jogos publicados por ano."
   ]
  },
  {
   "cell_type": "code",
   "execution_count": 17,
   "metadata": {},
   "outputs": [
    {
     "data": {
      "text/plain": [
       "<seaborn.axisgrid.FacetGrid at 0x7f1a413ccd00>"
      ]
     },
     "execution_count": 17,
     "metadata": {},
     "output_type": "execute_result"
    },
    {
     "data": {
      "image/png": "[encoded data removed]",
      "text/plain": [
       "<Figure size 360x360 with 1 Axes>"
      ]
     },
     "metadata": {
      "needs_background": "light"
     },
     "output_type": "display_data"
    }
   ],
   "source": [
    "sns.displot(df['Year'])"
   ]
  },
  {
   "cell_type": "markdown",
   "metadata": {},
   "source": [
    "A pequena quantidade de jogos publicados a partir de 2017 motivou uma investigação nesse sentido. A tabela abaixo apresenta quais jogos foram publicados a partir da referida data."
   ]
  },
  {
   "cell_type": "code",
   "execution_count": 18,
   "metadata": {},
   "outputs": [
    {
     "data": {
      "text/html": [
       "<div>\n",
       "<style scoped>\n",
       "    .dataframe tbody tr th:only-of-type {\n",
       "        vertical-align: middle;\n",
       "    }\n",
       "\n",
       "    .dataframe tbody tr th {\n",
       "        vertical-align: top;\n",
       "    }\n",
       "\n",
       "    .dataframe thead th {\n",
       "        text-align: right;\n",
       "    }\n",
       "</style>\n",
       "<table border=\"1\" class=\"dataframe\">\n",
       "  <thead>\n",
       "    <tr style=\"text-align: right;\">\n",
       "      <th></th>\n",
       "      <th>Name</th>\n",
       "      <th>Platform</th>\n",
       "      <th>Year</th>\n",
       "      <th>Genre</th>\n",
       "      <th>Publisher</th>\n",
       "      <th>NA_Sales</th>\n",
       "      <th>EU_Sales</th>\n",
       "      <th>JP_Sales</th>\n",
       "      <th>Other_Sales</th>\n",
       "      <th>Global_Sales</th>\n",
       "    </tr>\n",
       "  </thead>\n",
       "  <tbody>\n",
       "    <tr>\n",
       "      <th>5957</th>\n",
       "      <td>Imagine: Makeup Artist</td>\n",
       "      <td>DS</td>\n",
       "      <td>2020.0</td>\n",
       "      <td>Simulation</td>\n",
       "      <td>Ubisoft</td>\n",
       "      <td>0.27</td>\n",
       "      <td>0.0</td>\n",
       "      <td>0.00</td>\n",
       "      <td>0.02</td>\n",
       "      <td>0.29</td>\n",
       "    </tr>\n",
       "    <tr>\n",
       "      <th>14390</th>\n",
       "      <td>Phantasy Star Online 2 Episode 4: Deluxe Package</td>\n",
       "      <td>PS4</td>\n",
       "      <td>2017.0</td>\n",
       "      <td>Role-Playing</td>\n",
       "      <td>Sega</td>\n",
       "      <td>0.00</td>\n",
       "      <td>0.0</td>\n",
       "      <td>0.03</td>\n",
       "      <td>0.00</td>\n",
       "      <td>0.03</td>\n",
       "    </tr>\n",
       "    <tr>\n",
       "      <th>16241</th>\n",
       "      <td>Phantasy Star Online 2 Episode 4: Deluxe Package</td>\n",
       "      <td>PSV</td>\n",
       "      <td>2017.0</td>\n",
       "      <td>Role-Playing</td>\n",
       "      <td>Sega</td>\n",
       "      <td>0.00</td>\n",
       "      <td>0.0</td>\n",
       "      <td>0.01</td>\n",
       "      <td>0.00</td>\n",
       "      <td>0.01</td>\n",
       "    </tr>\n",
       "    <tr>\n",
       "      <th>16438</th>\n",
       "      <td>Brothers Conflict: Precious Baby</td>\n",
       "      <td>PSV</td>\n",
       "      <td>2017.0</td>\n",
       "      <td>Action</td>\n",
       "      <td>Idea Factory</td>\n",
       "      <td>0.00</td>\n",
       "      <td>0.0</td>\n",
       "      <td>0.01</td>\n",
       "      <td>0.00</td>\n",
       "      <td>0.01</td>\n",
       "    </tr>\n",
       "  </tbody>\n",
       "</table>\n",
       "</div>"
      ],
      "text/plain": [
       "                                                   Name Platform    Year  \\\n",
       "5957                             Imagine: Makeup Artist       DS  2020.0   \n",
       "14390  Phantasy Star Online 2 Episode 4: Deluxe Package      PS4  2017.0   \n",
       "16241  Phantasy Star Online 2 Episode 4: Deluxe Package      PSV  2017.0   \n",
       "16438                  Brothers Conflict: Precious Baby      PSV  2017.0   \n",
       "\n",
       "              Genre     Publisher  NA_Sales  EU_Sales  JP_Sales  Other_Sales  \\\n",
       "5957     Simulation       Ubisoft      0.27       0.0      0.00         0.02   \n",
       "14390  Role-Playing          Sega      0.00       0.0      0.03         0.00   \n",
       "16241  Role-Playing          Sega      0.00       0.0      0.01         0.00   \n",
       "16438        Action  Idea Factory      0.00       0.0      0.01         0.00   \n",
       "\n",
       "       Global_Sales  \n",
       "5957           0.29  \n",
       "14390          0.03  \n",
       "16241          0.01  \n",
       "16438          0.01  "
      ]
     },
     "execution_count": 18,
     "metadata": {},
     "output_type": "execute_result"
    }
   ],
   "source": [
    "df[df['Year'] >= 2017]"
   ]
  },
  {
   "cell_type": "markdown",
   "metadata": {},
   "source": [
    "Foi descoberto que o ano de publicação desses 4 títulos não corresponde à realidade. O jogo 'Imagine: Makeup Artist', por exemplo, [foi lançado em 2009](https://pt.wikipedia.org/wiki/Imagine_(s%C3%A9rie)). Enquanto isso, o título 'Phantasy Star Online 2 Episode 4: Deluxe Package' [teve seu lançamento em 2016](https://www.play-asia.com/phantasy-star-online-2-episode-4-deluxe-package/13/709stt). Da mesma forma, o título 'Brothers Conflict: Precious Baby' [foi publicado no ano de 2016](https://en.wikipedia.org/wiki/Brothers_Conflict) para o console PS Vita. "
   ]
  },
  {
   "cell_type": "markdown",
   "metadata": {},
   "source": [
    "Desse modo, faz-se necessária a correção desses dados durante a fase de tratamento."
   ]
  },
  {
   "cell_type": "markdown",
   "metadata": {},
   "source": [
    "Vale ressaltar que a ausência de dados referentes aos anos 2017 a 2020 pode representar um fator limitante à análise."
   ]
  },
  {
   "cell_type": "markdown",
   "metadata": {},
   "source": [
    "# 3. Tratamento de dados <a id=\"data_cleaning\"></a>"
   ]
  },
  {
   "cell_type": "markdown",
   "metadata": {},
   "source": [
    "### a. Eliminação de dados ausentes <a id=\"handle_missing\"></a>"
   ]
  },
  {
   "cell_type": "markdown",
   "metadata": {},
   "source": [
    "Optou-se pela eliminação das linhas nas quais o ano ou editora não estivessem presentes."
   ]
  },
  {
   "cell_type": "code",
   "execution_count": 19,
   "metadata": {},
   "outputs": [
    {
     "data": {
      "text/plain": [
       "(16291, 10)"
      ]
     },
     "execution_count": 19,
     "metadata": {},
     "output_type": "execute_result"
    }
   ],
   "source": [
    "df.dropna(subset=[\"Year\", \"Publisher\"], axis=0, inplace=True)\n",
    "df.reset_index(drop=True, inplace=True)\n",
    "df.shape"
   ]
  },
  {
   "cell_type": "markdown",
   "metadata": {},
   "source": [
    "Após a modificação, o número de registros foi reduzido de 16.598 para 16.291. A redução de 307 linhas é equivalente ao total de linhas com dados ausentes indicado no diagrama de venn da [seção b do capítulo 2](#duplicate_data)"
   ]
  },
  {
   "cell_type": "markdown",
   "metadata": {},
   "source": [
    "### b. Eliminação de dados duplicados <a id=\"handle_duplicate\"></a>"
   ]
  },
  {
   "cell_type": "markdown",
   "metadata": {},
   "source": [
    "Conforme citado na [seção b do capítulo 2](#duplicate_data), a eliminação de registros com dados nulos assegura a remoção dos dados duplicados encontrados. Isso se deve ao fato de que foi encontrada apenas uma linha duplicada, a qual não apresentava o dado referente ao ano de publicação."
   ]
  },
  {
   "cell_type": "markdown",
   "metadata": {},
   "source": [
    "### c. Substituição de anos incorretos <a id=\"wrong_year\"></a>"
   ]
  },
  {
   "cell_type": "markdown",
   "metadata": {},
   "source": [
    "Constatou-se a incorreção de dados referentes ao ano na [seção d do capítulo 2](#question_4). A tabela abaixo indica o ano indicado e o ano verdadeiro para publicação dos títulos:"
   ]
  },
  {
   "cell_type": "markdown",
   "metadata": {},
   "source": [
    "Nome | Plataforma | Ano indicado | Ano real\n",
    "--------- | ------ |  ----- | -----\n",
    "Imagine: Makeup Artist | DS | 2020 | 2009\n",
    "Phantasy Star Online 2 Episode 4: Deluxe Package | PS4 | 2017 | 2016\n",
    "Phantasy Star Online 2 Episode 4: Deluxe Package | PSV | 2017 | 2016\n",
    "Brothers Conflict: Precious Baby | PSV | 2017 | 2016"
   ]
  },
  {
   "cell_type": "markdown",
   "metadata": {},
   "source": [
    "Procedeu-se à modificação do ano para os registros indicados."
   ]
  },
  {
   "cell_type": "code",
   "execution_count": 20,
   "metadata": {},
   "outputs": [
    {
     "name": "stdout",
     "output_type": "stream",
     "text": [
      "[ 5860 14136 15944 16135]\n"
     ]
    }
   ],
   "source": [
    "# O array indica os índices desejados em ordem crescente\n",
    "rows = df[df['Year'] >= 2017].index.to_numpy()\n",
    "print(rows)   "
   ]
  },
  {
   "cell_type": "code",
   "execution_count": 21,
   "metadata": {},
   "outputs": [],
   "source": [
    "# Anos reais de publicação, dispostos na mesma ordem do array anterior\n",
    "correct_years = [2009, 2016, 2016, 2016]"
   ]
  },
  {
   "cell_type": "code",
   "execution_count": 39,
   "metadata": {},
   "outputs": [
    {
     "name": "stdout",
     "output_type": "stream",
     "text": [
      "2009.0\n",
      "2016.0\n",
      "2016.0\n",
      "2016.0\n"
     ]
    }
   ],
   "source": [
    "for i, index in enumerate(rows):\n",
    "    df.loc[index, 'Year'] = correct_years[i]\n",
    "    print(df['Year'][index])"
   ]
  },
  {
   "cell_type": "markdown",
   "metadata": {},
   "source": [
    "Após essa substituição, foi finalizado o tratamento de dados."
   ]
  },
  {
   "cell_type": "markdown",
   "metadata": {},
   "source": [
    "# 4. Visualização <a id=\"visualization\"></a>"
   ]
  },
  {
   "cell_type": "markdown",
   "metadata": {},
   "source": [
    "### a. Jogos mais vendidos <a id=\"top_sales\"></a>"
   ]
  },
  {
   "cell_type": "markdown",
   "metadata": {},
   "source": [
    "#### Desde 1980"
   ]
  },
  {
   "cell_type": "markdown",
   "metadata": {},
   "source": [
    "O gráfico abaixo apresenta os 10 jogos mais vendidos durante todo o período avaliado."
   ]
  },
  {
   "cell_type": "code",
   "execution_count": 23,
   "metadata": {},
   "outputs": [
    {
     "data": {
      "image/png": "[encoded data removed]",
      "text/plain": [
       "<Figure size 720x360 with 1 Axes>"
      ]
     },
     "metadata": {
      "needs_background": "light"
     },
     "output_type": "display_data"
    }
   ],
   "source": [
    "x = 'Name'\n",
    "y = 'Global_Sales'\n",
    "\n",
    "total_sales = df[[x, y]].groupby('Name').agg(['sum'])\n",
    "\n",
    "top10 = helpers.extract_top(df, 10, y)\n",
    "\n",
    "g = helpers.plot_bars(top10, x, y)\n",
    "helpers.annotate_bars(g)\n",
    "\n",
    "plt.xticks(rotation=45)\n",
    "plt.title(\"10 jogos mais vendidos na história\")\n",
    "plt.show()"
   ]
  },
  {
   "cell_type": "markdown",
   "metadata": {},
   "source": [
    "A tabela abaixo indica o ano de lançamento desses jogos."
   ]
  },
  {
   "cell_type": "code",
   "execution_count": 24,
   "metadata": {},
   "outputs": [
    {
     "data": {
      "text/html": [
       "<div>\n",
       "<style scoped>\n",
       "    .dataframe tbody tr th:only-of-type {\n",
       "        vertical-align: middle;\n",
       "    }\n",
       "\n",
       "    .dataframe tbody tr th {\n",
       "        vertical-align: top;\n",
       "    }\n",
       "\n",
       "    .dataframe thead th {\n",
       "        text-align: right;\n",
       "    }\n",
       "</style>\n",
       "<table border=\"1\" class=\"dataframe\">\n",
       "  <thead>\n",
       "    <tr style=\"text-align: right;\">\n",
       "      <th></th>\n",
       "      <th>index</th>\n",
       "      <th>Name</th>\n",
       "      <th>Platform</th>\n",
       "      <th>Year</th>\n",
       "      <th>Genre</th>\n",
       "      <th>Publisher</th>\n",
       "      <th>NA_Sales</th>\n",
       "      <th>EU_Sales</th>\n",
       "      <th>JP_Sales</th>\n",
       "      <th>Other_Sales</th>\n",
       "      <th>Global_Sales</th>\n",
       "    </tr>\n",
       "  </thead>\n",
       "  <tbody>\n",
       "    <tr>\n",
       "      <th>0</th>\n",
       "      <td>9</td>\n",
       "      <td>Duck Hunt</td>\n",
       "      <td>NES</td>\n",
       "      <td>1984.0</td>\n",
       "      <td>Shooter</td>\n",
       "      <td>Nintendo</td>\n",
       "      <td>26.93</td>\n",
       "      <td>0.63</td>\n",
       "      <td>0.28</td>\n",
       "      <td>0.47</td>\n",
       "      <td>28.31</td>\n",
       "    </tr>\n",
       "    <tr>\n",
       "      <th>1</th>\n",
       "      <td>1</td>\n",
       "      <td>Super Mario Bros.</td>\n",
       "      <td>NES</td>\n",
       "      <td>1985.0</td>\n",
       "      <td>Platform</td>\n",
       "      <td>Nintendo</td>\n",
       "      <td>29.08</td>\n",
       "      <td>3.58</td>\n",
       "      <td>6.81</td>\n",
       "      <td>0.77</td>\n",
       "      <td>40.24</td>\n",
       "    </tr>\n",
       "    <tr>\n",
       "      <th>2</th>\n",
       "      <td>5</td>\n",
       "      <td>Tetris</td>\n",
       "      <td>GB</td>\n",
       "      <td>1989.0</td>\n",
       "      <td>Puzzle</td>\n",
       "      <td>Nintendo</td>\n",
       "      <td>23.20</td>\n",
       "      <td>2.26</td>\n",
       "      <td>4.22</td>\n",
       "      <td>0.58</td>\n",
       "      <td>30.26</td>\n",
       "    </tr>\n",
       "    <tr>\n",
       "      <th>3</th>\n",
       "      <td>4</td>\n",
       "      <td>Pokemon Red/Pokemon Blue</td>\n",
       "      <td>GB</td>\n",
       "      <td>1996.0</td>\n",
       "      <td>Role-Playing</td>\n",
       "      <td>Nintendo</td>\n",
       "      <td>11.27</td>\n",
       "      <td>8.89</td>\n",
       "      <td>10.22</td>\n",
       "      <td>1.00</td>\n",
       "      <td>31.37</td>\n",
       "    </tr>\n",
       "    <tr>\n",
       "      <th>4</th>\n",
       "      <td>0</td>\n",
       "      <td>Wii Sports</td>\n",
       "      <td>Wii</td>\n",
       "      <td>2006.0</td>\n",
       "      <td>Sports</td>\n",
       "      <td>Nintendo</td>\n",
       "      <td>41.49</td>\n",
       "      <td>29.02</td>\n",
       "      <td>3.77</td>\n",
       "      <td>8.46</td>\n",
       "      <td>82.74</td>\n",
       "    </tr>\n",
       "    <tr>\n",
       "      <th>5</th>\n",
       "      <td>6</td>\n",
       "      <td>New Super Mario Bros.</td>\n",
       "      <td>DS</td>\n",
       "      <td>2006.0</td>\n",
       "      <td>Platform</td>\n",
       "      <td>Nintendo</td>\n",
       "      <td>11.38</td>\n",
       "      <td>9.23</td>\n",
       "      <td>6.50</td>\n",
       "      <td>2.90</td>\n",
       "      <td>30.01</td>\n",
       "    </tr>\n",
       "    <tr>\n",
       "      <th>6</th>\n",
       "      <td>7</td>\n",
       "      <td>Wii Play</td>\n",
       "      <td>Wii</td>\n",
       "      <td>2006.0</td>\n",
       "      <td>Misc</td>\n",
       "      <td>Nintendo</td>\n",
       "      <td>14.03</td>\n",
       "      <td>9.20</td>\n",
       "      <td>2.93</td>\n",
       "      <td>2.85</td>\n",
       "      <td>29.02</td>\n",
       "    </tr>\n",
       "    <tr>\n",
       "      <th>7</th>\n",
       "      <td>2</td>\n",
       "      <td>Mario Kart Wii</td>\n",
       "      <td>Wii</td>\n",
       "      <td>2008.0</td>\n",
       "      <td>Racing</td>\n",
       "      <td>Nintendo</td>\n",
       "      <td>15.85</td>\n",
       "      <td>12.88</td>\n",
       "      <td>3.79</td>\n",
       "      <td>3.31</td>\n",
       "      <td>35.82</td>\n",
       "    </tr>\n",
       "    <tr>\n",
       "      <th>8</th>\n",
       "      <td>3</td>\n",
       "      <td>Wii Sports Resort</td>\n",
       "      <td>Wii</td>\n",
       "      <td>2009.0</td>\n",
       "      <td>Sports</td>\n",
       "      <td>Nintendo</td>\n",
       "      <td>15.75</td>\n",
       "      <td>11.01</td>\n",
       "      <td>3.28</td>\n",
       "      <td>2.96</td>\n",
       "      <td>33.00</td>\n",
       "    </tr>\n",
       "    <tr>\n",
       "      <th>9</th>\n",
       "      <td>8</td>\n",
       "      <td>New Super Mario Bros. Wii</td>\n",
       "      <td>Wii</td>\n",
       "      <td>2009.0</td>\n",
       "      <td>Platform</td>\n",
       "      <td>Nintendo</td>\n",
       "      <td>14.59</td>\n",
       "      <td>7.06</td>\n",
       "      <td>4.70</td>\n",
       "      <td>2.26</td>\n",
       "      <td>28.62</td>\n",
       "    </tr>\n",
       "  </tbody>\n",
       "</table>\n",
       "</div>"
      ],
      "text/plain": [
       "   index                       Name Platform    Year         Genre Publisher  \\\n",
       "0      9                  Duck Hunt      NES  1984.0       Shooter  Nintendo   \n",
       "1      1          Super Mario Bros.      NES  1985.0      Platform  Nintendo   \n",
       "2      5                     Tetris       GB  1989.0        Puzzle  Nintendo   \n",
       "3      4   Pokemon Red/Pokemon Blue       GB  1996.0  Role-Playing  Nintendo   \n",
       "4      0                 Wii Sports      Wii  2006.0        Sports  Nintendo   \n",
       "5      6      New Super Mario Bros.       DS  2006.0      Platform  Nintendo   \n",
       "6      7                   Wii Play      Wii  2006.0          Misc  Nintendo   \n",
       "7      2             Mario Kart Wii      Wii  2008.0        Racing  Nintendo   \n",
       "8      3          Wii Sports Resort      Wii  2009.0        Sports  Nintendo   \n",
       "9      8  New Super Mario Bros. Wii      Wii  2009.0      Platform  Nintendo   \n",
       "\n",
       "   NA_Sales  EU_Sales  JP_Sales  Other_Sales  Global_Sales  \n",
       "0     26.93      0.63      0.28         0.47         28.31  \n",
       "1     29.08      3.58      6.81         0.77         40.24  \n",
       "2     23.20      2.26      4.22         0.58         30.26  \n",
       "3     11.27      8.89     10.22         1.00         31.37  \n",
       "4     41.49     29.02      3.77         8.46         82.74  \n",
       "5     11.38      9.23      6.50         2.90         30.01  \n",
       "6     14.03      9.20      2.93         2.85         29.02  \n",
       "7     15.85     12.88      3.79         3.31         35.82  \n",
       "8     15.75     11.01      3.28         2.96         33.00  \n",
       "9     14.59      7.06      4.70         2.26         28.62  "
      ]
     },
     "execution_count": 24,
     "metadata": {},
     "output_type": "execute_result"
    }
   ],
   "source": [
    "top10.sort_values(by='Year').reset_index()"
   ]
  },
  {
   "cell_type": "markdown",
   "metadata": {},
   "source": [
    "É evidente o fato de que todos os títulos foram lançados há mais de 10 anos, tendo sido 4 deles lançados no século passado. Além disso, todos os títulos foram publicados pela mesma editora: Nintendo.  "
   ]
  },
  {
   "cell_type": "markdown",
   "metadata": {},
   "source": [
    "#### Desde 2010"
   ]
  },
  {
   "cell_type": "markdown",
   "metadata": {},
   "source": [
    "A fim de se buscar uma representação mais recente dos dados, optou-se pela segmentação do período analisado, isto é, a partir do ano 2010."
   ]
  },
  {
   "cell_type": "code",
   "execution_count": 40,
   "metadata": {},
   "outputs": [
    {
     "data": {
      "text/plain": [
       "(5133, 10)"
      ]
     },
     "execution_count": 40,
     "metadata": {},
     "output_type": "execute_result"
    }
   ],
   "source": [
    "df_recent = df[df['Year'] >= 2010]\n",
    "df_recent.shape"
   ]
  },
  {
   "cell_type": "markdown",
   "metadata": {},
   "source": [
    "Após a filtragem, restaram 5133 registros."
   ]
  },
  {
   "cell_type": "markdown",
   "metadata": {},
   "source": [
    "A tabela abaixo indica os 10 jogos mais vendidos desde 2010. De forma a contabilizar jogos multiplaforma, foi efetuada a agregação de dados sobre vendas "
   ]
  },
  {
   "cell_type": "code",
   "execution_count": 41,
   "metadata": {},
   "outputs": [
    {
     "data": {
      "text/html": [
       "<div>\n",
       "<style scoped>\n",
       "    .dataframe tbody tr th:only-of-type {\n",
       "        vertical-align: middle;\n",
       "    }\n",
       "\n",
       "    .dataframe tbody tr th {\n",
       "        vertical-align: top;\n",
       "    }\n",
       "\n",
       "    .dataframe thead tr th {\n",
       "        text-align: left;\n",
       "    }\n",
       "</style>\n",
       "<table border=\"1\" class=\"dataframe\">\n",
       "  <thead>\n",
       "    <tr>\n",
       "      <th></th>\n",
       "      <th>index</th>\n",
       "      <th>Name</th>\n",
       "      <th>NA_Sales</th>\n",
       "      <th>EU_Sales</th>\n",
       "      <th>JP_Sales</th>\n",
       "      <th>Other_Sales</th>\n",
       "      <th>Global_Sales</th>\n",
       "    </tr>\n",
       "    <tr>\n",
       "      <th></th>\n",
       "      <th></th>\n",
       "      <th></th>\n",
       "      <th>sum</th>\n",
       "      <th>sum</th>\n",
       "      <th>sum</th>\n",
       "      <th>sum</th>\n",
       "      <th>sum</th>\n",
       "    </tr>\n",
       "  </thead>\n",
       "  <tbody>\n",
       "    <tr>\n",
       "      <th>0</th>\n",
       "      <td>1013</td>\n",
       "      <td>Grand Theft Auto V</td>\n",
       "      <td>23.46</td>\n",
       "      <td>23.04</td>\n",
       "      <td>1.39</td>\n",
       "      <td>8.03</td>\n",
       "      <td>55.92</td>\n",
       "    </tr>\n",
       "    <tr>\n",
       "      <th>1</th>\n",
       "      <td>325</td>\n",
       "      <td>Call of Duty: Modern Warfare 3</td>\n",
       "      <td>15.58</td>\n",
       "      <td>11.29</td>\n",
       "      <td>0.62</td>\n",
       "      <td>3.35</td>\n",
       "      <td>30.83</td>\n",
       "    </tr>\n",
       "    <tr>\n",
       "      <th>2</th>\n",
       "      <td>323</td>\n",
       "      <td>Call of Duty: Black Ops II</td>\n",
       "      <td>14.08</td>\n",
       "      <td>11.05</td>\n",
       "      <td>0.72</td>\n",
       "      <td>3.88</td>\n",
       "      <td>29.72</td>\n",
       "    </tr>\n",
       "    <tr>\n",
       "      <th>3</th>\n",
       "      <td>321</td>\n",
       "      <td>Call of Duty: Black Ops</td>\n",
       "      <td>17.01</td>\n",
       "      <td>8.69</td>\n",
       "      <td>0.59</td>\n",
       "      <td>3.12</td>\n",
       "      <td>29.40</td>\n",
       "    </tr>\n",
       "    <tr>\n",
       "      <th>4</th>\n",
       "      <td>324</td>\n",
       "      <td>Call of Duty: Ghosts</td>\n",
       "      <td>14.92</td>\n",
       "      <td>9.05</td>\n",
       "      <td>0.48</td>\n",
       "      <td>2.92</td>\n",
       "      <td>27.38</td>\n",
       "    </tr>\n",
       "    <tr>\n",
       "      <th>5</th>\n",
       "      <td>322</td>\n",
       "      <td>Call of Duty: Black Ops 3</td>\n",
       "      <td>11.89</td>\n",
       "      <td>9.56</td>\n",
       "      <td>0.43</td>\n",
       "      <td>3.42</td>\n",
       "      <td>25.32</td>\n",
       "    </tr>\n",
       "    <tr>\n",
       "      <th>6</th>\n",
       "      <td>1666</td>\n",
       "      <td>Minecraft</td>\n",
       "      <td>10.82</td>\n",
       "      <td>8.85</td>\n",
       "      <td>1.15</td>\n",
       "      <td>2.93</td>\n",
       "      <td>23.73</td>\n",
       "    </tr>\n",
       "    <tr>\n",
       "      <th>7</th>\n",
       "      <td>320</td>\n",
       "      <td>Call of Duty: Advanced Warfare</td>\n",
       "      <td>10.44</td>\n",
       "      <td>8.18</td>\n",
       "      <td>0.34</td>\n",
       "      <td>2.93</td>\n",
       "      <td>21.90</td>\n",
       "    </tr>\n",
       "    <tr>\n",
       "      <th>8</th>\n",
       "      <td>1366</td>\n",
       "      <td>Kinect Adventures!</td>\n",
       "      <td>14.97</td>\n",
       "      <td>4.94</td>\n",
       "      <td>0.24</td>\n",
       "      <td>1.67</td>\n",
       "      <td>21.82</td>\n",
       "    </tr>\n",
       "    <tr>\n",
       "      <th>9</th>\n",
       "      <td>2700</td>\n",
       "      <td>The Elder Scrolls V: Skyrim</td>\n",
       "      <td>8.73</td>\n",
       "      <td>7.66</td>\n",
       "      <td>0.35</td>\n",
       "      <td>2.54</td>\n",
       "      <td>19.28</td>\n",
       "    </tr>\n",
       "  </tbody>\n",
       "</table>\n",
       "</div>"
      ],
      "text/plain": [
       "  index                            Name NA_Sales EU_Sales JP_Sales  \\\n",
       "                                             sum      sum      sum   \n",
       "0  1013              Grand Theft Auto V    23.46    23.04     1.39   \n",
       "1   325  Call of Duty: Modern Warfare 3    15.58    11.29     0.62   \n",
       "2   323      Call of Duty: Black Ops II    14.08    11.05     0.72   \n",
       "3   321         Call of Duty: Black Ops    17.01     8.69     0.59   \n",
       "4   324            Call of Duty: Ghosts    14.92     9.05     0.48   \n",
       "5   322       Call of Duty: Black Ops 3    11.89     9.56     0.43   \n",
       "6  1666                       Minecraft    10.82     8.85     1.15   \n",
       "7   320  Call of Duty: Advanced Warfare    10.44     8.18     0.34   \n",
       "8  1366              Kinect Adventures!    14.97     4.94     0.24   \n",
       "9  2700     The Elder Scrolls V: Skyrim     8.73     7.66     0.35   \n",
       "\n",
       "  Other_Sales Global_Sales  \n",
       "          sum          sum  \n",
       "0        8.03        55.92  \n",
       "1        3.35        30.83  \n",
       "2        3.88        29.72  \n",
       "3        3.12        29.40  \n",
       "4        2.92        27.38  \n",
       "5        3.42        25.32  \n",
       "6        2.93        23.73  \n",
       "7        2.93        21.90  \n",
       "8        1.67        21.82  \n",
       "9        2.54        19.28  "
      ]
     },
     "execution_count": 41,
     "metadata": {},
     "output_type": "execute_result"
    }
   ],
   "source": [
    "recent_sales = df_recent[['Name', 'NA_Sales', 'EU_Sales', 'JP_Sales', 'Other_Sales', 'Global_Sales']]\n",
    "recent_sales = recent_sales.groupby('Name', as_index=False).agg(['sum']).reset_index()\n",
    "\n",
    "recent_top10 = helpers.extract_top(recent_sales, 10, ('Global_Sales', 'sum'))\n",
    "recent_top10.reset_index()"
   ]
  },
  {
   "cell_type": "markdown",
   "metadata": {},
   "source": [
    "Constata-se que 6 dos 10 títulos pertencem à franquia 'Call of Duty', um jogo do tipo 'Shooter' multiplataforma. Desse modo, é razoável supor que jogos de tiro estejam entre os mais populares."
   ]
  },
  {
   "cell_type": "markdown",
   "metadata": {},
   "source": [
    "### b. Total de vendas por plataforma e região <a id=\"total_sales\"></a>"
   ]
  },
  {
   "cell_type": "markdown",
   "metadata": {},
   "source": [
    "#### Global"
   ]
  },
  {
   "cell_type": "markdown",
   "metadata": {},
   "source": [
    "O gráfico abaixo indica a variação no número de vendas globais, por plataforma, a partir do ano de 2010."
   ]
  },
  {
   "cell_type": "code",
   "execution_count": 28,
   "metadata": {},
   "outputs": [
    {
     "data": {
      "image/png": "[encoded data removed]",
      "text/plain": [
       "<Figure size 432x288 with 1 Axes>"
      ]
     },
     "metadata": {
      "needs_background": "light"
     },
     "output_type": "display_data"
    }
   ],
   "source": [
    "sns.scatterplot(x=\"Platform\", y=\"Global_Sales\", data=df_recent)\n",
    "plt.title(\"Vendas globais recentes por plataforma\")\n",
    "plt.show()"
   ]
  },
  {
   "cell_type": "markdown",
   "metadata": {},
   "source": [
    "É possível notar que as plataformas PSP, PSV e PS2 apresentaram um intervalo no número de vendas significativamente menor do que os outros dispositivos. Isso Pode significar que esses consoles estariam se dirigindo a um estado de obsolescência."
   ]
  },
  {
   "cell_type": "markdown",
   "metadata": {},
   "source": [
    "#### América do Norte"
   ]
  },
  {
   "cell_type": "markdown",
   "metadata": {},
   "source": [
    "As vendas segmentadas por plataforma para o mercado norte americano são apresentadas abaixo."
   ]
  },
  {
   "cell_type": "code",
   "execution_count": 29,
   "metadata": {},
   "outputs": [
    {
     "data": {
      "image/png": "[encoded data removed]",
      "text/plain": [
       "<Figure size 432x288 with 1 Axes>"
      ]
     },
     "metadata": {
      "needs_background": "light"
     },
     "output_type": "display_data"
    }
   ],
   "source": [
    "sns.scatterplot(x=\"Platform\", y=\"NA_Sales\", data=df_recent)\n",
    "plt.title(\"Vendas recentes por plataforma na América do Norte\")\n",
    "plt.show()"
   ]
  },
  {
   "cell_type": "markdown",
   "metadata": {},
   "source": [
    "<div style=\"text-align: justify;\">\n",
    "Entre os consoles de mesma geração, títulos para o X360 apresenta uma variação no número de vendas maior do que o PS3. É possível afimar que o mercado norte-americano apresenta uma tendência semelhante à identificada para o mercado global. Isso significaria que essa região pode possuir elevada importância no contexto mundial para venda de jogos digitais.\n",
    "</div>"
   ]
  },
  {
   "cell_type": "markdown",
   "metadata": {},
   "source": [
    "#### Europa"
   ]
  },
  {
   "cell_type": "markdown",
   "metadata": {},
   "source": [
    "As vendas por plataforma para o mercado europeu são indicadas no gráfico abaixo."
   ]
  },
  {
   "cell_type": "code",
   "execution_count": 30,
   "metadata": {},
   "outputs": [
    {
     "data": {
      "image/png": "[encoded data removed]",
      "text/plain": [
       "<Figure size 432x288 with 1 Axes>"
      ]
     },
     "metadata": {
      "needs_background": "light"
     },
     "output_type": "display_data"
    }
   ],
   "source": [
    "sns.scatterplot(x=\"Platform\", y=\"EU_Sales\", data=df_recent)\n",
    "plt.title(\"Vendas recentes por plataforma na Europa\")\n",
    "plt.show()"
   ]
  },
  {
   "cell_type": "markdown",
   "metadata": {},
   "source": [
    "<div style=\"text-align: justify\">\n",
    "Diferente da América do Norte, a plataforma PS3 apresenta uma variação no número de vendas de jogos maior do que o X360, console de mesma geração. Por outro lado, a tendência observada na região se assemelha à apresentada para o mercado global. Isso pode significar que a região também possui grande importância no total de vendas mundiais.\n",
    "</div>"
   ]
  },
  {
   "cell_type": "markdown",
   "metadata": {},
   "source": [
    "#### Japão"
   ]
  },
  {
   "cell_type": "markdown",
   "metadata": {},
   "source": [
    "As vendas por plataforma para o mercado japonês são indicadas a seguir."
   ]
  },
  {
   "cell_type": "code",
   "execution_count": 31,
   "metadata": {},
   "outputs": [
    {
     "data": {
      "image/png": "[encoded data removed]",
      "text/plain": [
       "<Figure size 432x288 with 1 Axes>"
      ]
     },
     "metadata": {
      "needs_background": "light"
     },
     "output_type": "display_data"
    }
   ],
   "source": [
    "sns.scatterplot(x=\"Platform\", y=\"JP_Sales\", data=df_recent)\n",
    "plt.title(\"Vendas recentes por plataforma no Japão\")\n",
    "plt.show()"
   ]
  },
  {
   "cell_type": "markdown",
   "metadata": {},
   "source": [
    "<div style=\"text-align: justify;\">\n",
    "É bastante notória a percepção de que o mercado japonês destoa dos norte-americano e europeu. Há indícios de que houve, nos últimos anos, uma preferência pelas plataformas 3DS, Wii e WiiU. Diferente do observado nas demais regiões, jogos para os consoles X360, XOne, PC, PS3 e PS4 apresentaram um volume de vendas significativamente inferior.\n",
    "</div>"
   ]
  },
  {
   "cell_type": "markdown",
   "metadata": {},
   "source": [
    "#### Outras regiões"
   ]
  },
  {
   "cell_type": "markdown",
   "metadata": {},
   "source": [
    "O gráfico abaixo indica o número de vendas por plataforma para as demais regiões do mundo."
   ]
  },
  {
   "cell_type": "code",
   "execution_count": 32,
   "metadata": {},
   "outputs": [
    {
     "data": {
      "image/png": "[encoded data removed]",
      "text/plain": [
       "<Figure size 432x288 with 1 Axes>"
      ]
     },
     "metadata": {
      "needs_background": "light"
     },
     "output_type": "display_data"
    }
   ],
   "source": [
    "sns.scatterplot(x=\"Platform\", y=\"Other_Sales\", data=df_recent)\n",
    "plt.title(\"Vendas recentes por plataforma nas demais regiões\")\n",
    "plt.show()"
   ]
  },
  {
   "cell_type": "markdown",
   "metadata": {},
   "source": [
    "<div style=\"text-aligh: justify;\"></a>\n",
    "Observa-se uma tendência bastante semelhante à apresentada nos mercados da América do Norte e Europa. As plataformas preferênciais seriam PS3, PS4 e X360. A aplicabilidade dessa distribuição contudo é limitada para o mercado brasileiro. Uma maior segmentação dos dados, indicando os países, permitiria uma análise mais pormenorizada.\n",
    "</div>"
   ]
  },
  {
   "cell_type": "markdown",
   "metadata": {},
   "source": [
    "### c. Número de vendas por gênero <a id=\"genre_sales\"></a>"
   ]
  },
  {
   "cell_type": "markdown",
   "metadata": {},
   "source": [
    "#### Global"
   ]
  },
  {
   "cell_type": "markdown",
   "metadata": {},
   "source": [
    "O gráfico abaixo indica o total de vendas por gênero em todo o mundo."
   ]
  },
  {
   "cell_type": "code",
   "execution_count": 44,
   "metadata": {},
   "outputs": [
    {
     "data": {
      "image/png": "[encoded data removed]",
      "text/plain": [
       "<Figure size 720x360 with 1 Axes>"
      ]
     },
     "metadata": {
      "needs_background": "light"
     },
     "output_type": "display_data"
    }
   ],
   "source": [
    "helpers.plot_bars(df_recent, 'Genre', 'Global_Sales')\n",
    "plt.title(\"Gêneros mais vendidos no mundo desde 2010\")\n",
    "plt.show()"
   ]
  },
  {
   "cell_type": "markdown",
   "metadata": {},
   "source": [
    "É possível notar que os gêneros mais populares no mundo seriam 'Shooter', 'Platform' e 'Sports'."
   ]
  },
  {
   "cell_type": "markdown",
   "metadata": {},
   "source": [
    "#### América do Norte"
   ]
  },
  {
   "cell_type": "markdown",
   "metadata": {},
   "source": [
    "Os generos mais vendidos no mercado norte-americano são indicados abaixo."
   ]
  },
  {
   "cell_type": "code",
   "execution_count": 34,
   "metadata": {},
   "outputs": [
    {
     "data": {
      "image/png": "[encoded data removed]",
      "text/plain": [
       "<Figure size 720x360 with 1 Axes>"
      ]
     },
     "metadata": {
      "needs_background": "light"
     },
     "output_type": "display_data"
    }
   ],
   "source": [
    "g = helpers.plot_bars(df_recent, 'Genre', 'NA_Sales')\n",
    "\n",
    "plt.title(\"Gêneros mais vendidos na América do Norte desde 2010\")\n",
    "plt.show()"
   ]
  },
  {
   "cell_type": "markdown",
   "metadata": {},
   "source": [
    "Mais uma vez, o mercado norte-americano segue a tendência do mercado mundial. Os 3 gêneros mais populares nessa região são os mesmos para as vendas globais. Isso é um indicativo de que o país oferece uma elevada contribuição na venda de jogos digitais."
   ]
  },
  {
   "cell_type": "markdown",
   "metadata": {},
   "source": [
    "#### Europa"
   ]
  },
  {
   "cell_type": "markdown",
   "metadata": {},
   "source": [
    "O mercado europeu de jogos digitais é representado pelo gráfico a seguir."
   ]
  },
  {
   "cell_type": "code",
   "execution_count": 35,
   "metadata": {},
   "outputs": [
    {
     "data": {
      "image/png": "[encoded data removed]",
      "text/plain": [
       "<Figure size 720x360 with 1 Axes>"
      ]
     },
     "metadata": {
      "needs_background": "light"
     },
     "output_type": "display_data"
    }
   ],
   "source": [
    "helpers.plot_bars(df_recent, 'Genre', 'EU_Sales')\n",
    "plt.title(\"Gêneros mais vendidos na Europa desde 2010\")\n",
    "plt.show()"
   ]
  },
  {
   "cell_type": "markdown",
   "metadata": {},
   "source": [
    "Os tipos de jogos mais vendidos nessa região seriam 'Shooter' e 'Platform'. Nessa situação, o terceiro colocado seria 'Racing', ao invés de 'Sports', como nas vendas globais e norte-americanas."
   ]
  },
  {
   "cell_type": "markdown",
   "metadata": {},
   "source": [
    "#### Japão"
   ]
  },
  {
   "cell_type": "markdown",
   "metadata": {},
   "source": [
    "As vendas por gênero no Japão são indicadas abaixo."
   ]
  },
  {
   "cell_type": "code",
   "execution_count": 36,
   "metadata": {},
   "outputs": [
    {
     "data": {
      "image/png": "[encoded data removed]",
      "text/plain": [
       "<Figure size 720x360 with 1 Axes>"
      ]
     },
     "metadata": {
      "needs_background": "light"
     },
     "output_type": "display_data"
    }
   ],
   "source": [
    "helpers.plot_bars(df_recent, 'Genre', 'JP_Sales')\n",
    "plt.title(\"Gêneros mais vendidos no Japão desde 2010\")\n",
    "plt.show()"
   ]
  },
  {
   "cell_type": "markdown",
   "metadata": {},
   "source": [
    "Mais uma vez, as particularidades do mercado japonês se evidenciam. Observa-se que, diferente das demais regiões, o gênero mais popular no país seria 'Role-Playing'. 'Platform' e 'Fighting' são o segundo e terceiro gêneros mais populares respectivamente."
   ]
  },
  {
   "cell_type": "markdown",
   "metadata": {},
   "source": [
    "#### Outras Regiões"
   ]
  },
  {
   "cell_type": "markdown",
   "metadata": {},
   "source": [
    "É possível visualizar as vendas, segmentadas por gênero, para as demais regiões no mundo."
   ]
  },
  {
   "cell_type": "code",
   "execution_count": 37,
   "metadata": {},
   "outputs": [
    {
     "data": {
      "image/png": "[encoded data removed]",
      "text/plain": [
       "<Figure size 720x360 with 1 Axes>"
      ]
     },
     "metadata": {
      "needs_background": "light"
     },
     "output_type": "display_data"
    }
   ],
   "source": [
    "helpers.plot_bars(df_recent, 'Genre', 'Other_Sales')\n",
    "plt.title(\"Gêneros mais vendidos nas demais regiões desde 2010\")\n",
    "plt.show()"
   ]
  },
  {
   "cell_type": "markdown",
   "metadata": {},
   "source": [
    "Há motivos para acreditar que os gêneros mais populares, nas demais regiões do mundo, seriam 'Shooter', 'Platform', 'Sports' e 'Racing'."
   ]
  },
  {
   "cell_type": "markdown",
   "metadata": {},
   "source": [
    "### d. Editoras mais populares no top 100 <a id=\"top_pulishers\"></a>"
   ]
  },
  {
   "cell_type": "markdown",
   "metadata": {},
   "source": [
    "O gráfico abaixo indica a distribuição de editoras para os 100 jogos mais vendidos em todo o mundo desde 2010."
   ]
  },
  {
   "cell_type": "code",
   "execution_count": 38,
   "metadata": {},
   "outputs": [
    {
     "data": {
      "image/png": "[encoded data removed]",
      "text/plain": [
       "<Figure size 720x360 with 1 Axes>"
      ]
     },
     "metadata": {
      "needs_background": "light"
     },
     "output_type": "display_data"
    }
   ],
   "source": [
    "x = 'Publisher'\n",
    "y = 'count'\n",
    "\n",
    "top100 = helpers.extract_top(df_recent, 1000, 'Global_Sales').head(100)\n",
    "top_publishers = top100.groupby(\"Publisher\").size().reset_index(name='count')\n",
    "top_publishers = top_publishers.sort_values(by='count', ascending=False)\n",
    "\n",
    "g = helpers.plot_bars(top_publishers, x, y)\n",
    "helpers.annotate_bars(g)\n",
    "\n",
    "plt.xticks(rotation=60)\n",
    "plt.title(\"Editoras mais populares dentre os 100 jogos mais vendidos desde 2010\")\n",
    "plt.show()"
   ]
  },
  {
   "cell_type": "markdown",
   "metadata": {},
   "source": [
    "Foi constatado anteriormente que a Nintendo havia publicado os 10 jogos mais populares de toda a história. Mesmo após restringir a análise de dados ao período a partir de 2010, a editora ainda se mostra extremamente relevante no cenário global. A seguir, 'Activision', 'Electronic Arts' e 'Ubisoft' seriam as editoras mais relevantes na atualidade."
   ]
  },
  {
   "cell_type": "markdown",
   "metadata": {},
   "source": [
    "# 5. Conclusão <a id=\"conclusion\"></a>"
   ]
  },
  {
   "cell_type": "markdown",
   "metadata": {},
   "source": [
    "<div style=\"text-align: justify;\">\n",
    "O dataset escolhido apresenta dados referentes à venda de jogos digitais no mundo e também em 04 regiões: América do Norte, Europa, Japão e Demais Regiões. A escolha desse conjunto de dados se deve ao fato de que o mercado de desenvolvimento de jogos tem crescido no Brasil. Desse modo, é importante oferecer insights aos desenvolvedores, de modo que eles possam otimizar a rentabilidade dessa indústria no país.\n",
    "</div>"
   ]
  },
  {
   "cell_type": "markdown",
   "metadata": {},
   "source": [
    "<div style=\"text-align: justify;\">\n",
    "Há um total de 16.598 registros, distribuídos ao longo de 10 colunas. Dentre as variáveis categóricas, foram identificadas 31 plataformas, 12 gêneros e 578 editoras. Não foi identificado relacionamento linear entre essas variáveis e o número de vendas. Não há registro da venda de jogos para celulares, mercado que tem se mostrado bastante promissor nos últimos anos. Além disso, o dataset não contabiliza o modelo de negócios baseado em assinaturas, adotado principalmente por jogos do gênero 'MMORPG'.\n",
    "</div>"
   ]
  },
  {
   "cell_type": "markdown",
   "metadata": {},
   "source": [
    "<div style=\"text-align: justify;\">\n",
    "Durante a análise exploratória, foram constatadas inconsistências de dados. Mais especificamente, constatou-se a presença de 307 linhas com dados nulos, nas colunas 'Year' e 'Publisher'. Além disso, foi encontrada uma duplicata, a qual também não apresentava o ano de publicação. Ambas inconsistências foram tratadas por meio da remoção de dados nulos, a qual reduziu o número de registros de 16.598 para 16.291.\n",
    "</div>"
   ]
  },
  {
   "cell_type": "markdown",
   "metadata": {},
   "source": [
    "<div style=\"text-align: justify;\">\n",
    "O ano de publicação dos jogos varia de 1980 até 2020. Foi possível constatar que apenas 3 títulos teriam sido lançados em 2017 e apenas 1, em 2020. Ao efetuar uma pesquisa sobre esses jogos, contudo, foi constatado que o ano indicado no dataset estava incorreto. Por esse motivo, os 4 registros foram devidamente corrigidos com o seu ano correto de lançamento.\n",
    "</div>"
   ]
  },
  {
   "cell_type": "markdown",
   "metadata": {},
   "source": [
    "Todos os 10 jogos mais vendidos de todos os tempos foram lançados antes de 2010 pela mesma editora: Nintendo. Na tentativa de avaliar a situação mais recente do mercado de jogos digitais, optou-se por segmentar a maior parte das visualizações para os anos a partir de 2010."
   ]
  },
  {
   "cell_type": "markdown",
   "metadata": {},
   "source": [
    "<div style=\"text-align: justify;\">\n",
    "Os dados analisados não apresentam informações específicas sobre o mercado brasileiro de jogos digitais. Uma maior segmentação das informações, indicando, por exemplo, o país de venda, permitiria uma análise mais profunda. De qualquer modo, procurou-se avaliar os dados para os mercados norte-americano, europeu e das demais regiões do mundo. Buscou-se traçar paralelos que pudessem ser aplicados à indústria de jogos digitais nacional.\n",
    "</div>"
   ]
  },
  {
   "cell_type": "markdown",
   "metadata": {},
   "source": [
    "<div style=\"text-align: justify;\">\n",
    "Pode-se concluir que jogos dos gêneros 'Shooter', 'Platform', 'Sports' e 'Racing' seriam os mais populares nos mercados com características semelhantes ao Brasil. Dessa forma, sugere-se que seja avaliada a viabilidade de se publicar títulos que mesclem esses 04 gêneros. Um jogo de tiro, do tipo plataforma, com elementos de corrida, por exemplo, poderia receber grande aceitação por parte do público brasileiro.\n",
    "</div>"
   ]
  },
  {
   "cell_type": "markdown",
   "metadata": {},
   "source": [
    "<div style=\"text-align: justify;\">\n",
    "Além disso, parcela significativa dos jogos mais populares, desde o ano de 2010, foram lançados em múltiplas plataformas. Por esse motivo, indica-se que desenvolvedores nacionais procurem oferecer jogos multi-plataforma.\n",
    "</div>"
   ]
  }
 ],
 "metadata": {
  "kernelspec": {
   "display_name": "Python 3",
   "language": "python",
   "name": "python3"
  },
  "language_info": {
   "codemirror_mode": {
    "name": "ipython",
    "version": 3
   },
   "file_extension": ".py",
   "mimetype": "text/x-python",
   "name": "python",
   "nbconvert_exporter": "python",
   "pygments_lexer": "ipython3",
   "version": "3.9.1"
  }
 },
 "nbformat": 4,
 "nbformat_minor": 4
}
