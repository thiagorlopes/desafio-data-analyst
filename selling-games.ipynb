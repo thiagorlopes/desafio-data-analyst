{
 "cells": [
  {
   "cell_type": "markdown",
   "metadata": {},
   "source": [
    "<a href=\"https://hubconexa.com/\">\n",
    "    <img alt=\"Conexa labs logo\" src=\"./img/conexa-logo.svg\" style=\"height:70px; align:left\">\n",
    "</a>"
   ]
  },
  {
   "cell_type": "markdown",
   "metadata": {},
   "source": [
    "<h1 align=center><font size=5>Desafio Data Analyst</font></h1>"
   ]
  },
  {
   "cell_type": "markdown",
   "metadata": {},
   "source": [
    "<h1>Relatório</h1>"
   ]
  },
  {
   "cell_type": "markdown",
   "metadata": {},
   "source": [
    "<h3>Contexto</h3>"
   ]
  },
  {
   "cell_type": "markdown",
   "metadata": {},
   "source": [
    "Este relatório foi elaborado como pré-requisito para prosseguimento no processo seletivo para a vaga de analista de dados na companhia Conexa - Hub de Inovação Siagri."
   ]
  },
  {
   "cell_type": "markdown",
   "metadata": {},
   "source": [
    "<h2>Sumário</h2>"
   ]
  },
  {
   "cell_type": "markdown",
   "metadata": {},
   "source": [
    "<div class=\"alert alert-block alert-light\" style=\"margin-top: 20px\">\n",
    "<ul>\n",
    "    <li><a href=\"#intro\">Introdução</a></li>\n",
    "        <ul>\n",
    "            <li><a href=\"#dataset_selection\">Escolha do dataset</a></li>\n",
    "            <li><a href=\"#dataset_catalog\">Catálogo de dados</a></li>\n",
    "            <li><a href=\"#dataset_questions\">Perguntas</a></li>\n",
    "        </ul>\n",
    "    <li><a href=\"#identify_handle_missing_values\">Tratamento de dados</a>\n",
    "        <ul>\n",
    "            <li><a href=\"#missing_identify\">Identificação de dados ausentes</a></li>\n",
    "            <li><a href=\"#missing_handle\">Tratamento de dados ausentes</a></li>\n",
    "            <li><a href=\"#data_format\">Formato de dados</a></li>            \n",
    "        </ul>\n",
    "    </li>\n",
    "</ul>\n",
    "</div>"
   ]
  },
  {
   "cell_type": "markdown",
   "metadata": {},
   "source": [
    "<hr>"
   ]
  },
  {
   "cell_type": "markdown",
   "metadata": {},
   "source": [
    "<h2 id=\"intro\">Introdução:</h2>"
   ]
  },
  {
   "cell_type": "markdown",
   "metadata": {},
   "source": [
    "<h3 id=\"dataset_selection\">Escolha do dataset</h3>"
   ]
  },
  {
   "cell_type": "markdown",
   "metadata": {},
   "source": [
    "<div style=\"text-align: justify\">\n",
    "Foram disponibilizados dois datasets, sendo necessária a escolha de um deles. O primeiro conjunto de dados é referente à venda de jogos digitais, enquanto que o segundo traz informações sobre os passageiros do navio titanic. O mercado de jogos digitais movimenta <a href=\"https://www.statista.com/topics/868/video-games/#:~:text=Video%20games%20are%20a%20billion,over%2077%20billion%20U.S.%20dollars.\">bilhões de dólares</a> todos os anos. O Brasil é, atualmente, o <a href=\"https://valorinveste.globo.com/objetivo/empreenda-se/noticia/2019/07/30/brasil-e-o-13o-maior-mercado-de-games-do-mundo-e-o-maior-da-america-latina.ghtml\">13º maior mercado de jogos no mundo<a>. Há fortes indícios de que o <a href=\"https://revistapegn.globo.com/Tecnologia/noticia/2020/08/mercado-de-games-escapa-da-crise-e-cresce-com-isolamento-social.html\">desenvolvimento de jogos nacional ainda deve crescer bastante</a>. Desse modo, optou-se pela análise do dataset referente à venda de jogos digitais. Com isso, espera-se gerar insights que permitam aos desenvolvedores de jogos nacionais visualizarem formas de otimizar a rentabilidade desse mercado.\n",
    "</div>"
   ]
  },
  {
   "cell_type": "markdown",
   "metadata": {},
   "source": [
    "<h3 id=\"dataset_catalog\">Dicionário de dados</h3>"
   ]
  },
  {
   "cell_type": "markdown",
   "metadata": {},
   "source": [
    "A tabela abaixo indica a estrutura do conjunto de dados escolhido.\n",
    "\n",
    "Campo | Descrição\n",
    "----- | ---------\n",
    "Name | Nome do jogo\n",
    "Platform | Plataforma de lançamento dos jogos (PC, PS4, etc.)\n",
    "Year | Ano de lançamento do jogo\n",
    "Genre | Gênero do jogo\n",
    "Publisher | Editora do jogo\n",
    "NA_Sales | Vendas na América do Norte (em milhões)\n",
    "EU_Sales | Vendas na Europa (em milhões)\n",
    "JP_Sales | Vendas no Japão (em milhões)\n",
    "Other_Sales | Vendas no resto do mundo (em milhões)\n",
    "Global_Sales | Total de vendas mundiais."
   ]
  },
  {
   "cell_type": "markdown",
   "metadata": {},
   "source": [
    "<h3>Importação de dados</h3>"
   ]
  },
  {
   "cell_type": "markdown",
   "metadata": {},
   "source": [
    "<p>\n",
    "O dataset pode ser encontrado no link: <a href=\"https://github.com/conexalabs/desafio-data-analyst/blob/main/data/selling_games.parquet\">https://github.com/conexalabs/desafio-data-analyst/blob/main/data/selling_games.parquet</a>. \n",
    "</p>"
   ]
  },
  {
   "cell_type": "code",
   "execution_count": 52,
   "metadata": {},
   "outputs": [
    {
     "name": "stdout",
     "output_type": "stream",
     "text": [
      "Requirement already satisfied: pyarrow in /home/thiago/miniconda3/envs/data-analysis/lib/python3.9/site-packages (2.0.0)\n",
      "Requirement already satisfied: numpy>=1.14 in /home/thiago/miniconda3/envs/data-analysis/lib/python3.9/site-packages (from pyarrow) (1.19.5)\n"
     ]
    }
   ],
   "source": [
    "!pip install pyarrow\n",
    "\n",
    "import pandas as pd\n",
    "import numpy as np"
   ]
  },
  {
   "cell_type": "markdown",
   "metadata": {},
   "source": [
    "<h3>Leitura dos dados a partir do arquivo</h3>"
   ]
  },
  {
   "cell_type": "markdown",
   "metadata": {},
   "source": [
    "Após a importação dos dados"
   ]
  },
  {
   "cell_type": "code",
   "execution_count": 138,
   "metadata": {},
   "outputs": [
    {
     "data": {
      "text/html": [
       "<div>\n",
       "<style scoped>\n",
       "    .dataframe tbody tr th:only-of-type {\n",
       "        vertical-align: middle;\n",
       "    }\n",
       "\n",
       "    .dataframe tbody tr th {\n",
       "        vertical-align: top;\n",
       "    }\n",
       "\n",
       "    .dataframe thead th {\n",
       "        text-align: right;\n",
       "    }\n",
       "</style>\n",
       "<table border=\"1\" class=\"dataframe\">\n",
       "  <thead>\n",
       "    <tr style=\"text-align: right;\">\n",
       "      <th></th>\n",
       "      <th>Name</th>\n",
       "      <th>Platform</th>\n",
       "      <th>Year</th>\n",
       "      <th>Genre</th>\n",
       "      <th>Publisher</th>\n",
       "      <th>NA_Sales</th>\n",
       "      <th>EU_Sales</th>\n",
       "      <th>JP_Sales</th>\n",
       "      <th>Other_Sales</th>\n",
       "      <th>Global_Sales</th>\n",
       "    </tr>\n",
       "  </thead>\n",
       "  <tbody>\n",
       "    <tr>\n",
       "      <th>0</th>\n",
       "      <td>Wii Sports</td>\n",
       "      <td>Wii</td>\n",
       "      <td>2006.0</td>\n",
       "      <td>Sports</td>\n",
       "      <td>Nintendo</td>\n",
       "      <td>41.49</td>\n",
       "      <td>29.02</td>\n",
       "      <td>3.77</td>\n",
       "      <td>8.46</td>\n",
       "      <td>82.74</td>\n",
       "    </tr>\n",
       "    <tr>\n",
       "      <th>1</th>\n",
       "      <td>Super Mario Bros.</td>\n",
       "      <td>NES</td>\n",
       "      <td>1985.0</td>\n",
       "      <td>Platform</td>\n",
       "      <td>Nintendo</td>\n",
       "      <td>29.08</td>\n",
       "      <td>3.58</td>\n",
       "      <td>6.81</td>\n",
       "      <td>0.77</td>\n",
       "      <td>40.24</td>\n",
       "    </tr>\n",
       "    <tr>\n",
       "      <th>2</th>\n",
       "      <td>Mario Kart Wii</td>\n",
       "      <td>Wii</td>\n",
       "      <td>2008.0</td>\n",
       "      <td>Racing</td>\n",
       "      <td>Nintendo</td>\n",
       "      <td>15.85</td>\n",
       "      <td>12.88</td>\n",
       "      <td>3.79</td>\n",
       "      <td>3.31</td>\n",
       "      <td>35.82</td>\n",
       "    </tr>\n",
       "    <tr>\n",
       "      <th>3</th>\n",
       "      <td>Wii Sports Resort</td>\n",
       "      <td>Wii</td>\n",
       "      <td>2009.0</td>\n",
       "      <td>Sports</td>\n",
       "      <td>Nintendo</td>\n",
       "      <td>15.75</td>\n",
       "      <td>11.01</td>\n",
       "      <td>3.28</td>\n",
       "      <td>2.96</td>\n",
       "      <td>33.00</td>\n",
       "    </tr>\n",
       "    <tr>\n",
       "      <th>4</th>\n",
       "      <td>Pokemon Red/Pokemon Blue</td>\n",
       "      <td>GB</td>\n",
       "      <td>1996.0</td>\n",
       "      <td>Role-Playing</td>\n",
       "      <td>Nintendo</td>\n",
       "      <td>11.27</td>\n",
       "      <td>8.89</td>\n",
       "      <td>10.22</td>\n",
       "      <td>1.00</td>\n",
       "      <td>31.37</td>\n",
       "    </tr>\n",
       "  </tbody>\n",
       "</table>\n",
       "</div>"
      ],
      "text/plain": [
       "                       Name Platform    Year         Genre Publisher  \\\n",
       "0                Wii Sports      Wii  2006.0        Sports  Nintendo   \n",
       "1         Super Mario Bros.      NES  1985.0      Platform  Nintendo   \n",
       "2            Mario Kart Wii      Wii  2008.0        Racing  Nintendo   \n",
       "3         Wii Sports Resort      Wii  2009.0        Sports  Nintendo   \n",
       "4  Pokemon Red/Pokemon Blue       GB  1996.0  Role-Playing  Nintendo   \n",
       "\n",
       "   NA_Sales  EU_Sales  JP_Sales  Other_Sales  Global_Sales  \n",
       "0     41.49     29.02      3.77         8.46         82.74  \n",
       "1     29.08      3.58      6.81         0.77         40.24  \n",
       "2     15.85     12.88      3.79         3.31         35.82  \n",
       "3     15.75     11.01      3.28         2.96         33.00  \n",
       "4     11.27      8.89     10.22         1.00         31.37  "
      ]
     },
     "execution_count": 138,
     "metadata": {},
     "output_type": "execute_result"
    }
   ],
   "source": [
    "filename = \"./data/selling_games.parquet\"\n",
    "df = pd.read_parquet(filename, engine='pyarrow')\n",
    "df.head()"
   ]
  },
  {
   "cell_type": "markdown",
   "metadata": {},
   "source": [
    "<h3>Perguntas</h3>"
   ]
  },
  {
   "cell_type": "markdown",
   "metadata": {},
   "source": [
    "<ol>\n",
    "    <li>Os dados estão limpos e bem estruturados?</li>\n",
    "    <li>Quais variáveis apresentam maior correlação com o total de vendas em cada mercado?</li>\n",
    "    <li>Quais plataformas, gêneros e editoras tiveram o maior total de vendas mundiais nos últimos 5 anos?</li>\n",
    "    <li>Quais foram os 10 jogos mais vendidos em cada mercado nos últimos 10 anos</li>\n",
    "</ol>"
   ]
  },
  {
   "cell_type": "markdown",
   "metadata": {},
   "source": [
    "<h2 id=\"intro\">Identificação e Tratamento de dados:</h2>"
   ]
  },
  {
   "cell_type": "markdown",
   "metadata": {},
   "source": [
    "<h3 id=\"missing_identify\">Identificação de dados ausentes</h3>"
   ]
  },
  {
   "cell_type": "markdown",
   "metadata": {},
   "source": [
    "Para identificação dos dados ausentes, é importante determinar a dimensão do conjunto de dados."
   ]
  },
  {
   "cell_type": "code",
   "execution_count": 133,
   "metadata": {},
   "outputs": [
    {
     "data": {
      "text/plain": [
       "(16291, 10)"
      ]
     },
     "execution_count": 133,
     "metadata": {},
     "output_type": "execute_result"
    }
   ],
   "source": [
    "df.shape"
   ]
  },
  {
   "cell_type": "markdown",
   "metadata": {},
   "source": [
    "Pode-se afirmar que existem 16.598 linhas e 10 colunas no dataset analisado."
   ]
  },
  {
   "cell_type": "code",
   "execution_count": 146,
   "metadata": {},
   "outputs": [
    {
     "data": {
      "text/plain": [
       "Name              0\n",
       "Platform          0\n",
       "Year            271\n",
       "Genre             0\n",
       "Publisher        58\n",
       "NA_Sales          0\n",
       "EU_Sales          0\n",
       "JP_Sales          0\n",
       "Other_Sales       0\n",
       "Global_Sales      0\n",
       "dtype: int64"
      ]
     },
     "execution_count": 146,
     "metadata": {},
     "output_type": "execute_result"
    }
   ],
   "source": [
    "missing_data = df.isnull().sum()\n",
    "missing_data"
   ]
  },
  {
   "cell_type": "markdown",
   "metadata": {},
   "source": [
    "Baseado nos dados acima, é possível notar que das 16.598 linhas, apenas duas colunas apresentaram dados ausentes: \"Year\" e \"Publisher\". O gráfico abaixo apresenta a distribuição dos dados ausentes."
   ]
  },
  {
   "cell_type": "code",
   "execution_count": 149,
   "metadata": {},
   "outputs": [
    {
     "name": "stdout",
     "output_type": "stream",
     "text": [
      "Requirement already satisfied: matplotlib-venn in /home/thiago/miniconda3/envs/data-analysis/lib/python3.9/site-packages (0.11.6)\n",
      "Requirement already satisfied: numpy in /home/thiago/miniconda3/envs/data-analysis/lib/python3.9/site-packages (from matplotlib-venn) (1.19.5)\n",
      "Requirement already satisfied: matplotlib in /home/thiago/miniconda3/envs/data-analysis/lib/python3.9/site-packages (from matplotlib-venn) (3.3.3)\n",
      "Requirement already satisfied: scipy in /home/thiago/miniconda3/envs/data-analysis/lib/python3.9/site-packages (from matplotlib-venn) (1.6.0)\n",
      "Requirement already satisfied: kiwisolver>=1.0.1 in /home/thiago/miniconda3/envs/data-analysis/lib/python3.9/site-packages (from matplotlib->matplotlib-venn) (1.3.1)\n",
      "Requirement already satisfied: cycler>=0.10 in /home/thiago/miniconda3/envs/data-analysis/lib/python3.9/site-packages (from matplotlib->matplotlib-venn) (0.10.0)\n",
      "Requirement already satisfied: pyparsing!=2.0.4,!=2.1.2,!=2.1.6,>=2.0.3 in /home/thiago/miniconda3/envs/data-analysis/lib/python3.9/site-packages (from matplotlib->matplotlib-venn) (2.4.7)\n",
      "Requirement already satisfied: python-dateutil>=2.1 in /home/thiago/miniconda3/envs/data-analysis/lib/python3.9/site-packages (from matplotlib->matplotlib-venn) (2.8.1)\n",
      "Requirement already satisfied: pillow>=6.2.0 in /home/thiago/miniconda3/envs/data-analysis/lib/python3.9/site-packages (from matplotlib->matplotlib-venn) (8.1.0)\n",
      "Requirement already satisfied: six in /home/thiago/miniconda3/envs/data-analysis/lib/python3.9/site-packages (from cycler>=0.10->matplotlib->matplotlib-venn) (1.15.0)\n"
     ]
    }
   ],
   "source": [
    "!pip install matplotlib-venn\n",
    "\n",
    "import matplotlib.pyplot as plt\n",
    "from matplotlib_venn import venn2"
   ]
  },
  {
   "cell_type": "code",
   "execution_count": 154,
   "metadata": {},
   "outputs": [
    {
     "data": {
      "image/png": "[encoded data removed]",
      "text/plain": [
       "<Figure size 432x288 with 1 Axes>"
      ]
     },
     "metadata": {},
     "output_type": "display_data"
    }
   ],
   "source": [
    "missing_total = df.isnull().any(axis=1).sum()\n",
    "missing_publisher = missing_total - 271\n",
    "missing_year = missing_total - 58\n",
    "missing_both = missing_total - missing_year - missing_publisher\n",
    "\n",
    "venn2(subsets = (missing_year, missing_publisher, missing_both), set_labels = ('Falta Ano', 'Falta Editora'))\n",
    "plt.show()"
   ]
  },
  {
   "cell_type": "markdown",
   "metadata": {},
   "source": [
    "<strong>Total:</strong> 307"
   ]
  },
  {
   "cell_type": "markdown",
   "metadata": {},
   "source": [
    "<h3 id=\"missing_handle\">Tratamento de dados ausentes</h3>"
   ]
  },
  {
   "cell_type": "markdown",
   "metadata": {},
   "source": [
    "Optou-se pela eliminação das linhas nas quais o ano ou editora não estivesse presente."
   ]
  },
  {
   "cell_type": "code",
   "execution_count": 156,
   "metadata": {},
   "outputs": [
    {
     "data": {
      "text/plain": [
       "(16291, 10)"
      ]
     },
     "execution_count": 156,
     "metadata": {},
     "output_type": "execute_result"
    }
   ],
   "source": [
    "df.dropna(subset=[\"Year\", \"Publisher\"], axis=0, inplace=True)\n",
    "df.reset_index(drop=True, inplace=True)\n",
    "df.shape"
   ]
  },
  {
   "cell_type": "markdown",
   "metadata": {},
   "source": [
    "Após a modificação, o número de registros foi reduzido de 16.598 para 16.291. A redução de 307 linhas é equivalente ao total de linhas com dados ausentes indicado na seção interior."
   ]
  },
  {
   "cell_type": "markdown",
   "metadata": {},
   "source": [
    "<h3 id=\"missing_handle\">Formato de dados</h3>"
   ]
  },
  {
   "cell_type": "markdown",
   "metadata": {},
   "source": [
    "Os tipos de dados de cada coluna são indicados abaixo."
   ]
  },
  {
   "cell_type": "code",
   "execution_count": 64,
   "metadata": {},
   "outputs": [
    {
     "data": {
      "text/plain": [
       "Name             object\n",
       "Platform         object\n",
       "Year            float64\n",
       "Genre            object\n",
       "Publisher        object\n",
       "NA_Sales        float64\n",
       "EU_Sales        float64\n",
       "JP_Sales        float64\n",
       "Other_Sales     float64\n",
       "Global_Sales    float64\n",
       "dtype: object"
      ]
     },
     "execution_count": 64,
     "metadata": {},
     "output_type": "execute_result"
    }
   ],
   "source": [
    "df.dtypes"
   ]
  },
  {
   "cell_type": "markdown",
   "metadata": {},
   "source": [
    "Dados númericos devem ser apresentados nos formatos 'float' ou 'int'. Dados categóricos, por outro lado, devem ser apresentados no formato 'object'. Os dados referentes ao ano poderiam ser convertidos para 'datetime'. No entanto, tendo em vista que, nesse caso, apenas o ano nos interessa, não vemos necessidade de efetuar essa conversão."
   ]
  },
  {
   "cell_type": "code",
   "execution_count": null,
   "metadata": {},
   "outputs": [],
   "source": []
  },
  {
   "cell_type": "code",
   "execution_count": null,
   "metadata": {},
   "outputs": [],
   "source": []
  }
 ],
 "metadata": {
  "kernelspec": {
   "display_name": "Python 3",
   "language": "python",
   "name": "python3"
  },
  "language_info": {
   "codemirror_mode": {
    "name": "ipython",
    "version": 3
   },
   "file_extension": ".py",
   "mimetype": "text/x-python",
   "name": "python",
   "nbconvert_exporter": "python",
   "pygments_lexer": "ipython3",
   "version": "3.9.1"
  }
 },
 "nbformat": 4,
 "nbformat_minor": 4
}
